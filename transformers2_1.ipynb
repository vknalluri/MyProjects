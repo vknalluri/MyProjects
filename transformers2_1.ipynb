{
  "metadata": {
    "kernelspec": {
      "language": "python",
      "display_name": "Python 3",
      "name": "python3"
    },
    "language_info": {
      "pygments_lexer": "ipython3",
      "nbconvert_exporter": "python",
      "version": "3.6.4",
      "file_extension": ".py",
      "codemirror_mode": {
        "name": "ipython",
        "version": 3
      },
      "name": "python",
      "mimetype": "text/x-python"
    },
    "colab": {
      "name": "transformers2_1.ipynb",
      "provenance": [],
      "collapsed_sections": [
        "8drvIVReAlUF"
      ],
      "machine_shape": "hm",
      "include_colab_link": true
    },
    "accelerator": "TPU",
    "widgets": {
      "application/vnd.jupyter.widget-state+json": {
        "5c5879bca8c74e2e913bcb8cbc4bf979": {
          "model_module": "@jupyter-widgets/controls",
          "model_name": "HBoxModel",
          "model_module_version": "1.5.0",
          "state": {
            "_dom_classes": [],
            "_model_module": "@jupyter-widgets/controls",
            "_model_module_version": "1.5.0",
            "_model_name": "HBoxModel",
            "_view_count": null,
            "_view_module": "@jupyter-widgets/controls",
            "_view_module_version": "1.5.0",
            "_view_name": "HBoxView",
            "box_style": "",
            "children": [
              "IPY_MODEL_dfdafd8357854dd189837f24be68781d",
              "IPY_MODEL_aaeda877cf004375bf5cd95fca032e3c",
              "IPY_MODEL_379026ef4ec24f999ef717d7e490e481"
            ],
            "layout": "IPY_MODEL_425d1ec6319b49e485fc393ba6700121"
          }
        },
        "dfdafd8357854dd189837f24be68781d": {
          "model_module": "@jupyter-widgets/controls",
          "model_name": "HTMLModel",
          "model_module_version": "1.5.0",
          "state": {
            "_dom_classes": [],
            "_model_module": "@jupyter-widgets/controls",
            "_model_module_version": "1.5.0",
            "_model_name": "HTMLModel",
            "_view_count": null,
            "_view_module": "@jupyter-widgets/controls",
            "_view_module_version": "1.5.0",
            "_view_name": "HTMLView",
            "description": "",
            "description_tooltip": null,
            "layout": "IPY_MODEL_8a2a6aa330af44d2bdde13679b0063c4",
            "placeholder": "​",
            "style": "IPY_MODEL_1545642fced741f48b83ff5b73542a37",
            "value": "Downloading: 100%"
          }
        },
        "aaeda877cf004375bf5cd95fca032e3c": {
          "model_module": "@jupyter-widgets/controls",
          "model_name": "FloatProgressModel",
          "model_module_version": "1.5.0",
          "state": {
            "_dom_classes": [],
            "_model_module": "@jupyter-widgets/controls",
            "_model_module_version": "1.5.0",
            "_model_name": "FloatProgressModel",
            "_view_count": null,
            "_view_module": "@jupyter-widgets/controls",
            "_view_module_version": "1.5.0",
            "_view_name": "ProgressView",
            "bar_style": "success",
            "description": "",
            "description_tooltip": null,
            "layout": "IPY_MODEL_17720a19dbd44ac98f38faee1310b0d0",
            "max": 570,
            "min": 0,
            "orientation": "horizontal",
            "style": "IPY_MODEL_660d4827f7344702bd6d08827ee77559",
            "value": 570
          }
        },
        "379026ef4ec24f999ef717d7e490e481": {
          "model_module": "@jupyter-widgets/controls",
          "model_name": "HTMLModel",
          "model_module_version": "1.5.0",
          "state": {
            "_dom_classes": [],
            "_model_module": "@jupyter-widgets/controls",
            "_model_module_version": "1.5.0",
            "_model_name": "HTMLModel",
            "_view_count": null,
            "_view_module": "@jupyter-widgets/controls",
            "_view_module_version": "1.5.0",
            "_view_name": "HTMLView",
            "description": "",
            "description_tooltip": null,
            "layout": "IPY_MODEL_c7e57fd91bac42c0be8a5981469473cb",
            "placeholder": "​",
            "style": "IPY_MODEL_18042475e4a84e65b00cce17eb980fad",
            "value": " 570/570 [00:00&lt;00:00, 21.9kB/s]"
          }
        },
        "425d1ec6319b49e485fc393ba6700121": {
          "model_module": "@jupyter-widgets/base",
          "model_name": "LayoutModel",
          "model_module_version": "1.2.0",
          "state": {
            "_model_module": "@jupyter-widgets/base",
            "_model_module_version": "1.2.0",
            "_model_name": "LayoutModel",
            "_view_count": null,
            "_view_module": "@jupyter-widgets/base",
            "_view_module_version": "1.2.0",
            "_view_name": "LayoutView",
            "align_content": null,
            "align_items": null,
            "align_self": null,
            "border": null,
            "bottom": null,
            "display": null,
            "flex": null,
            "flex_flow": null,
            "grid_area": null,
            "grid_auto_columns": null,
            "grid_auto_flow": null,
            "grid_auto_rows": null,
            "grid_column": null,
            "grid_gap": null,
            "grid_row": null,
            "grid_template_areas": null,
            "grid_template_columns": null,
            "grid_template_rows": null,
            "height": null,
            "justify_content": null,
            "justify_items": null,
            "left": null,
            "margin": null,
            "max_height": null,
            "max_width": null,
            "min_height": null,
            "min_width": null,
            "object_fit": null,
            "object_position": null,
            "order": null,
            "overflow": null,
            "overflow_x": null,
            "overflow_y": null,
            "padding": null,
            "right": null,
            "top": null,
            "visibility": null,
            "width": null
          }
        },
        "8a2a6aa330af44d2bdde13679b0063c4": {
          "model_module": "@jupyter-widgets/base",
          "model_name": "LayoutModel",
          "model_module_version": "1.2.0",
          "state": {
            "_model_module": "@jupyter-widgets/base",
            "_model_module_version": "1.2.0",
            "_model_name": "LayoutModel",
            "_view_count": null,
            "_view_module": "@jupyter-widgets/base",
            "_view_module_version": "1.2.0",
            "_view_name": "LayoutView",
            "align_content": null,
            "align_items": null,
            "align_self": null,
            "border": null,
            "bottom": null,
            "display": null,
            "flex": null,
            "flex_flow": null,
            "grid_area": null,
            "grid_auto_columns": null,
            "grid_auto_flow": null,
            "grid_auto_rows": null,
            "grid_column": null,
            "grid_gap": null,
            "grid_row": null,
            "grid_template_areas": null,
            "grid_template_columns": null,
            "grid_template_rows": null,
            "height": null,
            "justify_content": null,
            "justify_items": null,
            "left": null,
            "margin": null,
            "max_height": null,
            "max_width": null,
            "min_height": null,
            "min_width": null,
            "object_fit": null,
            "object_position": null,
            "order": null,
            "overflow": null,
            "overflow_x": null,
            "overflow_y": null,
            "padding": null,
            "right": null,
            "top": null,
            "visibility": null,
            "width": null
          }
        },
        "1545642fced741f48b83ff5b73542a37": {
          "model_module": "@jupyter-widgets/controls",
          "model_name": "DescriptionStyleModel",
          "model_module_version": "1.5.0",
          "state": {
            "_model_module": "@jupyter-widgets/controls",
            "_model_module_version": "1.5.0",
            "_model_name": "DescriptionStyleModel",
            "_view_count": null,
            "_view_module": "@jupyter-widgets/base",
            "_view_module_version": "1.2.0",
            "_view_name": "StyleView",
            "description_width": ""
          }
        },
        "17720a19dbd44ac98f38faee1310b0d0": {
          "model_module": "@jupyter-widgets/base",
          "model_name": "LayoutModel",
          "model_module_version": "1.2.0",
          "state": {
            "_model_module": "@jupyter-widgets/base",
            "_model_module_version": "1.2.0",
            "_model_name": "LayoutModel",
            "_view_count": null,
            "_view_module": "@jupyter-widgets/base",
            "_view_module_version": "1.2.0",
            "_view_name": "LayoutView",
            "align_content": null,
            "align_items": null,
            "align_self": null,
            "border": null,
            "bottom": null,
            "display": null,
            "flex": null,
            "flex_flow": null,
            "grid_area": null,
            "grid_auto_columns": null,
            "grid_auto_flow": null,
            "grid_auto_rows": null,
            "grid_column": null,
            "grid_gap": null,
            "grid_row": null,
            "grid_template_areas": null,
            "grid_template_columns": null,
            "grid_template_rows": null,
            "height": null,
            "justify_content": null,
            "justify_items": null,
            "left": null,
            "margin": null,
            "max_height": null,
            "max_width": null,
            "min_height": null,
            "min_width": null,
            "object_fit": null,
            "object_position": null,
            "order": null,
            "overflow": null,
            "overflow_x": null,
            "overflow_y": null,
            "padding": null,
            "right": null,
            "top": null,
            "visibility": null,
            "width": null
          }
        },
        "660d4827f7344702bd6d08827ee77559": {
          "model_module": "@jupyter-widgets/controls",
          "model_name": "ProgressStyleModel",
          "model_module_version": "1.5.0",
          "state": {
            "_model_module": "@jupyter-widgets/controls",
            "_model_module_version": "1.5.0",
            "_model_name": "ProgressStyleModel",
            "_view_count": null,
            "_view_module": "@jupyter-widgets/base",
            "_view_module_version": "1.2.0",
            "_view_name": "StyleView",
            "bar_color": null,
            "description_width": ""
          }
        },
        "c7e57fd91bac42c0be8a5981469473cb": {
          "model_module": "@jupyter-widgets/base",
          "model_name": "LayoutModel",
          "model_module_version": "1.2.0",
          "state": {
            "_model_module": "@jupyter-widgets/base",
            "_model_module_version": "1.2.0",
            "_model_name": "LayoutModel",
            "_view_count": null,
            "_view_module": "@jupyter-widgets/base",
            "_view_module_version": "1.2.0",
            "_view_name": "LayoutView",
            "align_content": null,
            "align_items": null,
            "align_self": null,
            "border": null,
            "bottom": null,
            "display": null,
            "flex": null,
            "flex_flow": null,
            "grid_area": null,
            "grid_auto_columns": null,
            "grid_auto_flow": null,
            "grid_auto_rows": null,
            "grid_column": null,
            "grid_gap": null,
            "grid_row": null,
            "grid_template_areas": null,
            "grid_template_columns": null,
            "grid_template_rows": null,
            "height": null,
            "justify_content": null,
            "justify_items": null,
            "left": null,
            "margin": null,
            "max_height": null,
            "max_width": null,
            "min_height": null,
            "min_width": null,
            "object_fit": null,
            "object_position": null,
            "order": null,
            "overflow": null,
            "overflow_x": null,
            "overflow_y": null,
            "padding": null,
            "right": null,
            "top": null,
            "visibility": null,
            "width": null
          }
        },
        "18042475e4a84e65b00cce17eb980fad": {
          "model_module": "@jupyter-widgets/controls",
          "model_name": "DescriptionStyleModel",
          "model_module_version": "1.5.0",
          "state": {
            "_model_module": "@jupyter-widgets/controls",
            "_model_module_version": "1.5.0",
            "_model_name": "DescriptionStyleModel",
            "_view_count": null,
            "_view_module": "@jupyter-widgets/base",
            "_view_module_version": "1.2.0",
            "_view_name": "StyleView",
            "description_width": ""
          }
        },
        "401366a3d778458eb963450b73769a6c": {
          "model_module": "@jupyter-widgets/controls",
          "model_name": "HBoxModel",
          "model_module_version": "1.5.0",
          "state": {
            "_dom_classes": [],
            "_model_module": "@jupyter-widgets/controls",
            "_model_module_version": "1.5.0",
            "_model_name": "HBoxModel",
            "_view_count": null,
            "_view_module": "@jupyter-widgets/controls",
            "_view_module_version": "1.5.0",
            "_view_name": "HBoxView",
            "box_style": "",
            "children": [
              "IPY_MODEL_7e4aca34fff84a83a713482a6be4cd53",
              "IPY_MODEL_fe5f29d6e01b45238284b8aa41706ada",
              "IPY_MODEL_f59ec60c994c4b60aa194f44fe926339"
            ],
            "layout": "IPY_MODEL_bf3ad7385be841438e13e5ceec9be05f"
          }
        },
        "7e4aca34fff84a83a713482a6be4cd53": {
          "model_module": "@jupyter-widgets/controls",
          "model_name": "HTMLModel",
          "model_module_version": "1.5.0",
          "state": {
            "_dom_classes": [],
            "_model_module": "@jupyter-widgets/controls",
            "_model_module_version": "1.5.0",
            "_model_name": "HTMLModel",
            "_view_count": null,
            "_view_module": "@jupyter-widgets/controls",
            "_view_module_version": "1.5.0",
            "_view_name": "HTMLView",
            "description": "",
            "description_tooltip": null,
            "layout": "IPY_MODEL_1684313bb19947d3bd53243863e76eca",
            "placeholder": "​",
            "style": "IPY_MODEL_0c3777b674c74a4f8204284d4ff24a72",
            "value": "Downloading: 100%"
          }
        },
        "fe5f29d6e01b45238284b8aa41706ada": {
          "model_module": "@jupyter-widgets/controls",
          "model_name": "FloatProgressModel",
          "model_module_version": "1.5.0",
          "state": {
            "_dom_classes": [],
            "_model_module": "@jupyter-widgets/controls",
            "_model_module_version": "1.5.0",
            "_model_name": "FloatProgressModel",
            "_view_count": null,
            "_view_module": "@jupyter-widgets/controls",
            "_view_module_version": "1.5.0",
            "_view_name": "ProgressView",
            "bar_style": "success",
            "description": "",
            "description_tooltip": null,
            "layout": "IPY_MODEL_c2354e6b41524d1790db36658b915ca1",
            "max": 28,
            "min": 0,
            "orientation": "horizontal",
            "style": "IPY_MODEL_31421922543e4575aa38bfaa081a8659",
            "value": 28
          }
        },
        "f59ec60c994c4b60aa194f44fe926339": {
          "model_module": "@jupyter-widgets/controls",
          "model_name": "HTMLModel",
          "model_module_version": "1.5.0",
          "state": {
            "_dom_classes": [],
            "_model_module": "@jupyter-widgets/controls",
            "_model_module_version": "1.5.0",
            "_model_name": "HTMLModel",
            "_view_count": null,
            "_view_module": "@jupyter-widgets/controls",
            "_view_module_version": "1.5.0",
            "_view_name": "HTMLView",
            "description": "",
            "description_tooltip": null,
            "layout": "IPY_MODEL_f680ccb97ca7426ead98bad51300514c",
            "placeholder": "​",
            "style": "IPY_MODEL_f271e76aa64940db8f99832a2976e05b",
            "value": " 28.0/28.0 [00:00&lt;00:00, 1.12kB/s]"
          }
        },
        "bf3ad7385be841438e13e5ceec9be05f": {
          "model_module": "@jupyter-widgets/base",
          "model_name": "LayoutModel",
          "model_module_version": "1.2.0",
          "state": {
            "_model_module": "@jupyter-widgets/base",
            "_model_module_version": "1.2.0",
            "_model_name": "LayoutModel",
            "_view_count": null,
            "_view_module": "@jupyter-widgets/base",
            "_view_module_version": "1.2.0",
            "_view_name": "LayoutView",
            "align_content": null,
            "align_items": null,
            "align_self": null,
            "border": null,
            "bottom": null,
            "display": null,
            "flex": null,
            "flex_flow": null,
            "grid_area": null,
            "grid_auto_columns": null,
            "grid_auto_flow": null,
            "grid_auto_rows": null,
            "grid_column": null,
            "grid_gap": null,
            "grid_row": null,
            "grid_template_areas": null,
            "grid_template_columns": null,
            "grid_template_rows": null,
            "height": null,
            "justify_content": null,
            "justify_items": null,
            "left": null,
            "margin": null,
            "max_height": null,
            "max_width": null,
            "min_height": null,
            "min_width": null,
            "object_fit": null,
            "object_position": null,
            "order": null,
            "overflow": null,
            "overflow_x": null,
            "overflow_y": null,
            "padding": null,
            "right": null,
            "top": null,
            "visibility": null,
            "width": null
          }
        },
        "1684313bb19947d3bd53243863e76eca": {
          "model_module": "@jupyter-widgets/base",
          "model_name": "LayoutModel",
          "model_module_version": "1.2.0",
          "state": {
            "_model_module": "@jupyter-widgets/base",
            "_model_module_version": "1.2.0",
            "_model_name": "LayoutModel",
            "_view_count": null,
            "_view_module": "@jupyter-widgets/base",
            "_view_module_version": "1.2.0",
            "_view_name": "LayoutView",
            "align_content": null,
            "align_items": null,
            "align_self": null,
            "border": null,
            "bottom": null,
            "display": null,
            "flex": null,
            "flex_flow": null,
            "grid_area": null,
            "grid_auto_columns": null,
            "grid_auto_flow": null,
            "grid_auto_rows": null,
            "grid_column": null,
            "grid_gap": null,
            "grid_row": null,
            "grid_template_areas": null,
            "grid_template_columns": null,
            "grid_template_rows": null,
            "height": null,
            "justify_content": null,
            "justify_items": null,
            "left": null,
            "margin": null,
            "max_height": null,
            "max_width": null,
            "min_height": null,
            "min_width": null,
            "object_fit": null,
            "object_position": null,
            "order": null,
            "overflow": null,
            "overflow_x": null,
            "overflow_y": null,
            "padding": null,
            "right": null,
            "top": null,
            "visibility": null,
            "width": null
          }
        },
        "0c3777b674c74a4f8204284d4ff24a72": {
          "model_module": "@jupyter-widgets/controls",
          "model_name": "DescriptionStyleModel",
          "model_module_version": "1.5.0",
          "state": {
            "_model_module": "@jupyter-widgets/controls",
            "_model_module_version": "1.5.0",
            "_model_name": "DescriptionStyleModel",
            "_view_count": null,
            "_view_module": "@jupyter-widgets/base",
            "_view_module_version": "1.2.0",
            "_view_name": "StyleView",
            "description_width": ""
          }
        },
        "c2354e6b41524d1790db36658b915ca1": {
          "model_module": "@jupyter-widgets/base",
          "model_name": "LayoutModel",
          "model_module_version": "1.2.0",
          "state": {
            "_model_module": "@jupyter-widgets/base",
            "_model_module_version": "1.2.0",
            "_model_name": "LayoutModel",
            "_view_count": null,
            "_view_module": "@jupyter-widgets/base",
            "_view_module_version": "1.2.0",
            "_view_name": "LayoutView",
            "align_content": null,
            "align_items": null,
            "align_self": null,
            "border": null,
            "bottom": null,
            "display": null,
            "flex": null,
            "flex_flow": null,
            "grid_area": null,
            "grid_auto_columns": null,
            "grid_auto_flow": null,
            "grid_auto_rows": null,
            "grid_column": null,
            "grid_gap": null,
            "grid_row": null,
            "grid_template_areas": null,
            "grid_template_columns": null,
            "grid_template_rows": null,
            "height": null,
            "justify_content": null,
            "justify_items": null,
            "left": null,
            "margin": null,
            "max_height": null,
            "max_width": null,
            "min_height": null,
            "min_width": null,
            "object_fit": null,
            "object_position": null,
            "order": null,
            "overflow": null,
            "overflow_x": null,
            "overflow_y": null,
            "padding": null,
            "right": null,
            "top": null,
            "visibility": null,
            "width": null
          }
        },
        "31421922543e4575aa38bfaa081a8659": {
          "model_module": "@jupyter-widgets/controls",
          "model_name": "ProgressStyleModel",
          "model_module_version": "1.5.0",
          "state": {
            "_model_module": "@jupyter-widgets/controls",
            "_model_module_version": "1.5.0",
            "_model_name": "ProgressStyleModel",
            "_view_count": null,
            "_view_module": "@jupyter-widgets/base",
            "_view_module_version": "1.2.0",
            "_view_name": "StyleView",
            "bar_color": null,
            "description_width": ""
          }
        },
        "f680ccb97ca7426ead98bad51300514c": {
          "model_module": "@jupyter-widgets/base",
          "model_name": "LayoutModel",
          "model_module_version": "1.2.0",
          "state": {
            "_model_module": "@jupyter-widgets/base",
            "_model_module_version": "1.2.0",
            "_model_name": "LayoutModel",
            "_view_count": null,
            "_view_module": "@jupyter-widgets/base",
            "_view_module_version": "1.2.0",
            "_view_name": "LayoutView",
            "align_content": null,
            "align_items": null,
            "align_self": null,
            "border": null,
            "bottom": null,
            "display": null,
            "flex": null,
            "flex_flow": null,
            "grid_area": null,
            "grid_auto_columns": null,
            "grid_auto_flow": null,
            "grid_auto_rows": null,
            "grid_column": null,
            "grid_gap": null,
            "grid_row": null,
            "grid_template_areas": null,
            "grid_template_columns": null,
            "grid_template_rows": null,
            "height": null,
            "justify_content": null,
            "justify_items": null,
            "left": null,
            "margin": null,
            "max_height": null,
            "max_width": null,
            "min_height": null,
            "min_width": null,
            "object_fit": null,
            "object_position": null,
            "order": null,
            "overflow": null,
            "overflow_x": null,
            "overflow_y": null,
            "padding": null,
            "right": null,
            "top": null,
            "visibility": null,
            "width": null
          }
        },
        "f271e76aa64940db8f99832a2976e05b": {
          "model_module": "@jupyter-widgets/controls",
          "model_name": "DescriptionStyleModel",
          "model_module_version": "1.5.0",
          "state": {
            "_model_module": "@jupyter-widgets/controls",
            "_model_module_version": "1.5.0",
            "_model_name": "DescriptionStyleModel",
            "_view_count": null,
            "_view_module": "@jupyter-widgets/base",
            "_view_module_version": "1.2.0",
            "_view_name": "StyleView",
            "description_width": ""
          }
        },
        "543f26269c6b40f18bd2c60e48160512": {
          "model_module": "@jupyter-widgets/controls",
          "model_name": "HBoxModel",
          "model_module_version": "1.5.0",
          "state": {
            "_dom_classes": [],
            "_model_module": "@jupyter-widgets/controls",
            "_model_module_version": "1.5.0",
            "_model_name": "HBoxModel",
            "_view_count": null,
            "_view_module": "@jupyter-widgets/controls",
            "_view_module_version": "1.5.0",
            "_view_name": "HBoxView",
            "box_style": "",
            "children": [
              "IPY_MODEL_0eba18e3406549f8b84bc64c97d2b9bd",
              "IPY_MODEL_12f1cebeaa9c4ac88206de7b5642bc7e",
              "IPY_MODEL_90aa35a57be54dd28095dd027f4c51ce"
            ],
            "layout": "IPY_MODEL_22f6dc85caba44ed8198ac07be7f1b90"
          }
        },
        "0eba18e3406549f8b84bc64c97d2b9bd": {
          "model_module": "@jupyter-widgets/controls",
          "model_name": "HTMLModel",
          "model_module_version": "1.5.0",
          "state": {
            "_dom_classes": [],
            "_model_module": "@jupyter-widgets/controls",
            "_model_module_version": "1.5.0",
            "_model_name": "HTMLModel",
            "_view_count": null,
            "_view_module": "@jupyter-widgets/controls",
            "_view_module_version": "1.5.0",
            "_view_name": "HTMLView",
            "description": "",
            "description_tooltip": null,
            "layout": "IPY_MODEL_5dbd54f820c54fad9247b9eabcca1936",
            "placeholder": "​",
            "style": "IPY_MODEL_ff56f893c7b84c3f8d43bca7de1d3ec5",
            "value": "Downloading: 100%"
          }
        },
        "12f1cebeaa9c4ac88206de7b5642bc7e": {
          "model_module": "@jupyter-widgets/controls",
          "model_name": "FloatProgressModel",
          "model_module_version": "1.5.0",
          "state": {
            "_dom_classes": [],
            "_model_module": "@jupyter-widgets/controls",
            "_model_module_version": "1.5.0",
            "_model_name": "FloatProgressModel",
            "_view_count": null,
            "_view_module": "@jupyter-widgets/controls",
            "_view_module_version": "1.5.0",
            "_view_name": "ProgressView",
            "bar_style": "success",
            "description": "",
            "description_tooltip": null,
            "layout": "IPY_MODEL_94c9248f0b0b4d5ea731e167f976bd1f",
            "max": 231508,
            "min": 0,
            "orientation": "horizontal",
            "style": "IPY_MODEL_1edb928edc3d4440ab67ff711ed1a647",
            "value": 231508
          }
        },
        "90aa35a57be54dd28095dd027f4c51ce": {
          "model_module": "@jupyter-widgets/controls",
          "model_name": "HTMLModel",
          "model_module_version": "1.5.0",
          "state": {
            "_dom_classes": [],
            "_model_module": "@jupyter-widgets/controls",
            "_model_module_version": "1.5.0",
            "_model_name": "HTMLModel",
            "_view_count": null,
            "_view_module": "@jupyter-widgets/controls",
            "_view_module_version": "1.5.0",
            "_view_name": "HTMLView",
            "description": "",
            "description_tooltip": null,
            "layout": "IPY_MODEL_7f9b91308ad74e9fa2b8b3ea09f2bce3",
            "placeholder": "​",
            "style": "IPY_MODEL_4d0b49d40c9b4a47a884ed2cbe234ac6",
            "value": " 226k/226k [00:00&lt;00:00, 1.61MB/s]"
          }
        },
        "22f6dc85caba44ed8198ac07be7f1b90": {
          "model_module": "@jupyter-widgets/base",
          "model_name": "LayoutModel",
          "model_module_version": "1.2.0",
          "state": {
            "_model_module": "@jupyter-widgets/base",
            "_model_module_version": "1.2.0",
            "_model_name": "LayoutModel",
            "_view_count": null,
            "_view_module": "@jupyter-widgets/base",
            "_view_module_version": "1.2.0",
            "_view_name": "LayoutView",
            "align_content": null,
            "align_items": null,
            "align_self": null,
            "border": null,
            "bottom": null,
            "display": null,
            "flex": null,
            "flex_flow": null,
            "grid_area": null,
            "grid_auto_columns": null,
            "grid_auto_flow": null,
            "grid_auto_rows": null,
            "grid_column": null,
            "grid_gap": null,
            "grid_row": null,
            "grid_template_areas": null,
            "grid_template_columns": null,
            "grid_template_rows": null,
            "height": null,
            "justify_content": null,
            "justify_items": null,
            "left": null,
            "margin": null,
            "max_height": null,
            "max_width": null,
            "min_height": null,
            "min_width": null,
            "object_fit": null,
            "object_position": null,
            "order": null,
            "overflow": null,
            "overflow_x": null,
            "overflow_y": null,
            "padding": null,
            "right": null,
            "top": null,
            "visibility": null,
            "width": null
          }
        },
        "5dbd54f820c54fad9247b9eabcca1936": {
          "model_module": "@jupyter-widgets/base",
          "model_name": "LayoutModel",
          "model_module_version": "1.2.0",
          "state": {
            "_model_module": "@jupyter-widgets/base",
            "_model_module_version": "1.2.0",
            "_model_name": "LayoutModel",
            "_view_count": null,
            "_view_module": "@jupyter-widgets/base",
            "_view_module_version": "1.2.0",
            "_view_name": "LayoutView",
            "align_content": null,
            "align_items": null,
            "align_self": null,
            "border": null,
            "bottom": null,
            "display": null,
            "flex": null,
            "flex_flow": null,
            "grid_area": null,
            "grid_auto_columns": null,
            "grid_auto_flow": null,
            "grid_auto_rows": null,
            "grid_column": null,
            "grid_gap": null,
            "grid_row": null,
            "grid_template_areas": null,
            "grid_template_columns": null,
            "grid_template_rows": null,
            "height": null,
            "justify_content": null,
            "justify_items": null,
            "left": null,
            "margin": null,
            "max_height": null,
            "max_width": null,
            "min_height": null,
            "min_width": null,
            "object_fit": null,
            "object_position": null,
            "order": null,
            "overflow": null,
            "overflow_x": null,
            "overflow_y": null,
            "padding": null,
            "right": null,
            "top": null,
            "visibility": null,
            "width": null
          }
        },
        "ff56f893c7b84c3f8d43bca7de1d3ec5": {
          "model_module": "@jupyter-widgets/controls",
          "model_name": "DescriptionStyleModel",
          "model_module_version": "1.5.0",
          "state": {
            "_model_module": "@jupyter-widgets/controls",
            "_model_module_version": "1.5.0",
            "_model_name": "DescriptionStyleModel",
            "_view_count": null,
            "_view_module": "@jupyter-widgets/base",
            "_view_module_version": "1.2.0",
            "_view_name": "StyleView",
            "description_width": ""
          }
        },
        "94c9248f0b0b4d5ea731e167f976bd1f": {
          "model_module": "@jupyter-widgets/base",
          "model_name": "LayoutModel",
          "model_module_version": "1.2.0",
          "state": {
            "_model_module": "@jupyter-widgets/base",
            "_model_module_version": "1.2.0",
            "_model_name": "LayoutModel",
            "_view_count": null,
            "_view_module": "@jupyter-widgets/base",
            "_view_module_version": "1.2.0",
            "_view_name": "LayoutView",
            "align_content": null,
            "align_items": null,
            "align_self": null,
            "border": null,
            "bottom": null,
            "display": null,
            "flex": null,
            "flex_flow": null,
            "grid_area": null,
            "grid_auto_columns": null,
            "grid_auto_flow": null,
            "grid_auto_rows": null,
            "grid_column": null,
            "grid_gap": null,
            "grid_row": null,
            "grid_template_areas": null,
            "grid_template_columns": null,
            "grid_template_rows": null,
            "height": null,
            "justify_content": null,
            "justify_items": null,
            "left": null,
            "margin": null,
            "max_height": null,
            "max_width": null,
            "min_height": null,
            "min_width": null,
            "object_fit": null,
            "object_position": null,
            "order": null,
            "overflow": null,
            "overflow_x": null,
            "overflow_y": null,
            "padding": null,
            "right": null,
            "top": null,
            "visibility": null,
            "width": null
          }
        },
        "1edb928edc3d4440ab67ff711ed1a647": {
          "model_module": "@jupyter-widgets/controls",
          "model_name": "ProgressStyleModel",
          "model_module_version": "1.5.0",
          "state": {
            "_model_module": "@jupyter-widgets/controls",
            "_model_module_version": "1.5.0",
            "_model_name": "ProgressStyleModel",
            "_view_count": null,
            "_view_module": "@jupyter-widgets/base",
            "_view_module_version": "1.2.0",
            "_view_name": "StyleView",
            "bar_color": null,
            "description_width": ""
          }
        },
        "7f9b91308ad74e9fa2b8b3ea09f2bce3": {
          "model_module": "@jupyter-widgets/base",
          "model_name": "LayoutModel",
          "model_module_version": "1.2.0",
          "state": {
            "_model_module": "@jupyter-widgets/base",
            "_model_module_version": "1.2.0",
            "_model_name": "LayoutModel",
            "_view_count": null,
            "_view_module": "@jupyter-widgets/base",
            "_view_module_version": "1.2.0",
            "_view_name": "LayoutView",
            "align_content": null,
            "align_items": null,
            "align_self": null,
            "border": null,
            "bottom": null,
            "display": null,
            "flex": null,
            "flex_flow": null,
            "grid_area": null,
            "grid_auto_columns": null,
            "grid_auto_flow": null,
            "grid_auto_rows": null,
            "grid_column": null,
            "grid_gap": null,
            "grid_row": null,
            "grid_template_areas": null,
            "grid_template_columns": null,
            "grid_template_rows": null,
            "height": null,
            "justify_content": null,
            "justify_items": null,
            "left": null,
            "margin": null,
            "max_height": null,
            "max_width": null,
            "min_height": null,
            "min_width": null,
            "object_fit": null,
            "object_position": null,
            "order": null,
            "overflow": null,
            "overflow_x": null,
            "overflow_y": null,
            "padding": null,
            "right": null,
            "top": null,
            "visibility": null,
            "width": null
          }
        },
        "4d0b49d40c9b4a47a884ed2cbe234ac6": {
          "model_module": "@jupyter-widgets/controls",
          "model_name": "DescriptionStyleModel",
          "model_module_version": "1.5.0",
          "state": {
            "_model_module": "@jupyter-widgets/controls",
            "_model_module_version": "1.5.0",
            "_model_name": "DescriptionStyleModel",
            "_view_count": null,
            "_view_module": "@jupyter-widgets/base",
            "_view_module_version": "1.2.0",
            "_view_name": "StyleView",
            "description_width": ""
          }
        },
        "30b437605e4c40e1bbdbbc68cf639a55": {
          "model_module": "@jupyter-widgets/controls",
          "model_name": "HBoxModel",
          "model_module_version": "1.5.0",
          "state": {
            "_dom_classes": [],
            "_model_module": "@jupyter-widgets/controls",
            "_model_module_version": "1.5.0",
            "_model_name": "HBoxModel",
            "_view_count": null,
            "_view_module": "@jupyter-widgets/controls",
            "_view_module_version": "1.5.0",
            "_view_name": "HBoxView",
            "box_style": "",
            "children": [
              "IPY_MODEL_60fb31dd0753475a8d72f9c9d770a40a",
              "IPY_MODEL_50f3507d026344e4802dfc014d0ac5bb",
              "IPY_MODEL_c3e37fe818584bdb92b85f3ffdb683b4"
            ],
            "layout": "IPY_MODEL_0cdce09fa3ff4e3c84a177042b687ec2"
          }
        },
        "60fb31dd0753475a8d72f9c9d770a40a": {
          "model_module": "@jupyter-widgets/controls",
          "model_name": "HTMLModel",
          "model_module_version": "1.5.0",
          "state": {
            "_dom_classes": [],
            "_model_module": "@jupyter-widgets/controls",
            "_model_module_version": "1.5.0",
            "_model_name": "HTMLModel",
            "_view_count": null,
            "_view_module": "@jupyter-widgets/controls",
            "_view_module_version": "1.5.0",
            "_view_name": "HTMLView",
            "description": "",
            "description_tooltip": null,
            "layout": "IPY_MODEL_e8fd58e0b16c4812b9a4cbbdcb8eb557",
            "placeholder": "​",
            "style": "IPY_MODEL_714a0c1490ca4d5190b099c5cf907652",
            "value": "Downloading: 100%"
          }
        },
        "50f3507d026344e4802dfc014d0ac5bb": {
          "model_module": "@jupyter-widgets/controls",
          "model_name": "FloatProgressModel",
          "model_module_version": "1.5.0",
          "state": {
            "_dom_classes": [],
            "_model_module": "@jupyter-widgets/controls",
            "_model_module_version": "1.5.0",
            "_model_name": "FloatProgressModel",
            "_view_count": null,
            "_view_module": "@jupyter-widgets/controls",
            "_view_module_version": "1.5.0",
            "_view_name": "ProgressView",
            "bar_style": "success",
            "description": "",
            "description_tooltip": null,
            "layout": "IPY_MODEL_23d5706ab521407180c02bba2e89a4a7",
            "max": 466062,
            "min": 0,
            "orientation": "horizontal",
            "style": "IPY_MODEL_afc195856e2c4b5ebd90b252ddacfc9f",
            "value": 466062
          }
        },
        "c3e37fe818584bdb92b85f3ffdb683b4": {
          "model_module": "@jupyter-widgets/controls",
          "model_name": "HTMLModel",
          "model_module_version": "1.5.0",
          "state": {
            "_dom_classes": [],
            "_model_module": "@jupyter-widgets/controls",
            "_model_module_version": "1.5.0",
            "_model_name": "HTMLModel",
            "_view_count": null,
            "_view_module": "@jupyter-widgets/controls",
            "_view_module_version": "1.5.0",
            "_view_name": "HTMLView",
            "description": "",
            "description_tooltip": null,
            "layout": "IPY_MODEL_a6f3d979b18d495da5f92a1ce1b252d1",
            "placeholder": "​",
            "style": "IPY_MODEL_26085ab4840d4d0fb57e0f9d834e4b7e",
            "value": " 455k/455k [00:00&lt;00:00, 1.73MB/s]"
          }
        },
        "0cdce09fa3ff4e3c84a177042b687ec2": {
          "model_module": "@jupyter-widgets/base",
          "model_name": "LayoutModel",
          "model_module_version": "1.2.0",
          "state": {
            "_model_module": "@jupyter-widgets/base",
            "_model_module_version": "1.2.0",
            "_model_name": "LayoutModel",
            "_view_count": null,
            "_view_module": "@jupyter-widgets/base",
            "_view_module_version": "1.2.0",
            "_view_name": "LayoutView",
            "align_content": null,
            "align_items": null,
            "align_self": null,
            "border": null,
            "bottom": null,
            "display": null,
            "flex": null,
            "flex_flow": null,
            "grid_area": null,
            "grid_auto_columns": null,
            "grid_auto_flow": null,
            "grid_auto_rows": null,
            "grid_column": null,
            "grid_gap": null,
            "grid_row": null,
            "grid_template_areas": null,
            "grid_template_columns": null,
            "grid_template_rows": null,
            "height": null,
            "justify_content": null,
            "justify_items": null,
            "left": null,
            "margin": null,
            "max_height": null,
            "max_width": null,
            "min_height": null,
            "min_width": null,
            "object_fit": null,
            "object_position": null,
            "order": null,
            "overflow": null,
            "overflow_x": null,
            "overflow_y": null,
            "padding": null,
            "right": null,
            "top": null,
            "visibility": null,
            "width": null
          }
        },
        "e8fd58e0b16c4812b9a4cbbdcb8eb557": {
          "model_module": "@jupyter-widgets/base",
          "model_name": "LayoutModel",
          "model_module_version": "1.2.0",
          "state": {
            "_model_module": "@jupyter-widgets/base",
            "_model_module_version": "1.2.0",
            "_model_name": "LayoutModel",
            "_view_count": null,
            "_view_module": "@jupyter-widgets/base",
            "_view_module_version": "1.2.0",
            "_view_name": "LayoutView",
            "align_content": null,
            "align_items": null,
            "align_self": null,
            "border": null,
            "bottom": null,
            "display": null,
            "flex": null,
            "flex_flow": null,
            "grid_area": null,
            "grid_auto_columns": null,
            "grid_auto_flow": null,
            "grid_auto_rows": null,
            "grid_column": null,
            "grid_gap": null,
            "grid_row": null,
            "grid_template_areas": null,
            "grid_template_columns": null,
            "grid_template_rows": null,
            "height": null,
            "justify_content": null,
            "justify_items": null,
            "left": null,
            "margin": null,
            "max_height": null,
            "max_width": null,
            "min_height": null,
            "min_width": null,
            "object_fit": null,
            "object_position": null,
            "order": null,
            "overflow": null,
            "overflow_x": null,
            "overflow_y": null,
            "padding": null,
            "right": null,
            "top": null,
            "visibility": null,
            "width": null
          }
        },
        "714a0c1490ca4d5190b099c5cf907652": {
          "model_module": "@jupyter-widgets/controls",
          "model_name": "DescriptionStyleModel",
          "model_module_version": "1.5.0",
          "state": {
            "_model_module": "@jupyter-widgets/controls",
            "_model_module_version": "1.5.0",
            "_model_name": "DescriptionStyleModel",
            "_view_count": null,
            "_view_module": "@jupyter-widgets/base",
            "_view_module_version": "1.2.0",
            "_view_name": "StyleView",
            "description_width": ""
          }
        },
        "23d5706ab521407180c02bba2e89a4a7": {
          "model_module": "@jupyter-widgets/base",
          "model_name": "LayoutModel",
          "model_module_version": "1.2.0",
          "state": {
            "_model_module": "@jupyter-widgets/base",
            "_model_module_version": "1.2.0",
            "_model_name": "LayoutModel",
            "_view_count": null,
            "_view_module": "@jupyter-widgets/base",
            "_view_module_version": "1.2.0",
            "_view_name": "LayoutView",
            "align_content": null,
            "align_items": null,
            "align_self": null,
            "border": null,
            "bottom": null,
            "display": null,
            "flex": null,
            "flex_flow": null,
            "grid_area": null,
            "grid_auto_columns": null,
            "grid_auto_flow": null,
            "grid_auto_rows": null,
            "grid_column": null,
            "grid_gap": null,
            "grid_row": null,
            "grid_template_areas": null,
            "grid_template_columns": null,
            "grid_template_rows": null,
            "height": null,
            "justify_content": null,
            "justify_items": null,
            "left": null,
            "margin": null,
            "max_height": null,
            "max_width": null,
            "min_height": null,
            "min_width": null,
            "object_fit": null,
            "object_position": null,
            "order": null,
            "overflow": null,
            "overflow_x": null,
            "overflow_y": null,
            "padding": null,
            "right": null,
            "top": null,
            "visibility": null,
            "width": null
          }
        },
        "afc195856e2c4b5ebd90b252ddacfc9f": {
          "model_module": "@jupyter-widgets/controls",
          "model_name": "ProgressStyleModel",
          "model_module_version": "1.5.0",
          "state": {
            "_model_module": "@jupyter-widgets/controls",
            "_model_module_version": "1.5.0",
            "_model_name": "ProgressStyleModel",
            "_view_count": null,
            "_view_module": "@jupyter-widgets/base",
            "_view_module_version": "1.2.0",
            "_view_name": "StyleView",
            "bar_color": null,
            "description_width": ""
          }
        },
        "a6f3d979b18d495da5f92a1ce1b252d1": {
          "model_module": "@jupyter-widgets/base",
          "model_name": "LayoutModel",
          "model_module_version": "1.2.0",
          "state": {
            "_model_module": "@jupyter-widgets/base",
            "_model_module_version": "1.2.0",
            "_model_name": "LayoutModel",
            "_view_count": null,
            "_view_module": "@jupyter-widgets/base",
            "_view_module_version": "1.2.0",
            "_view_name": "LayoutView",
            "align_content": null,
            "align_items": null,
            "align_self": null,
            "border": null,
            "bottom": null,
            "display": null,
            "flex": null,
            "flex_flow": null,
            "grid_area": null,
            "grid_auto_columns": null,
            "grid_auto_flow": null,
            "grid_auto_rows": null,
            "grid_column": null,
            "grid_gap": null,
            "grid_row": null,
            "grid_template_areas": null,
            "grid_template_columns": null,
            "grid_template_rows": null,
            "height": null,
            "justify_content": null,
            "justify_items": null,
            "left": null,
            "margin": null,
            "max_height": null,
            "max_width": null,
            "min_height": null,
            "min_width": null,
            "object_fit": null,
            "object_position": null,
            "order": null,
            "overflow": null,
            "overflow_x": null,
            "overflow_y": null,
            "padding": null,
            "right": null,
            "top": null,
            "visibility": null,
            "width": null
          }
        },
        "26085ab4840d4d0fb57e0f9d834e4b7e": {
          "model_module": "@jupyter-widgets/controls",
          "model_name": "DescriptionStyleModel",
          "model_module_version": "1.5.0",
          "state": {
            "_model_module": "@jupyter-widgets/controls",
            "_model_module_version": "1.5.0",
            "_model_name": "DescriptionStyleModel",
            "_view_count": null,
            "_view_module": "@jupyter-widgets/base",
            "_view_module_version": "1.2.0",
            "_view_name": "StyleView",
            "description_width": ""
          }
        },
        "10f0978d637943ac880d9dc96fad6775": {
          "model_module": "@jupyter-widgets/controls",
          "model_name": "HBoxModel",
          "model_module_version": "1.5.0",
          "state": {
            "_dom_classes": [],
            "_model_module": "@jupyter-widgets/controls",
            "_model_module_version": "1.5.0",
            "_model_name": "HBoxModel",
            "_view_count": null,
            "_view_module": "@jupyter-widgets/controls",
            "_view_module_version": "1.5.0",
            "_view_name": "HBoxView",
            "box_style": "",
            "children": [
              "IPY_MODEL_2b94cdc5635742759823a3363b7b3764",
              "IPY_MODEL_3fd3710a4d91460b8987966fd0b96a22",
              "IPY_MODEL_84bb8bbcd59c48479d6eb310ee9aaecb"
            ],
            "layout": "IPY_MODEL_8529a19ee3e54c90a823c74c3898cafb"
          }
        },
        "2b94cdc5635742759823a3363b7b3764": {
          "model_module": "@jupyter-widgets/controls",
          "model_name": "HTMLModel",
          "model_module_version": "1.5.0",
          "state": {
            "_dom_classes": [],
            "_model_module": "@jupyter-widgets/controls",
            "_model_module_version": "1.5.0",
            "_model_name": "HTMLModel",
            "_view_count": null,
            "_view_module": "@jupyter-widgets/controls",
            "_view_module_version": "1.5.0",
            "_view_name": "HTMLView",
            "description": "",
            "description_tooltip": null,
            "layout": "IPY_MODEL_380995c4880e402d8745be564a1a2e34",
            "placeholder": "​",
            "style": "IPY_MODEL_56eb6229934c44bcbaa17bd3ce594f1a",
            "value": "Downloading: 100%"
          }
        },
        "3fd3710a4d91460b8987966fd0b96a22": {
          "model_module": "@jupyter-widgets/controls",
          "model_name": "FloatProgressModel",
          "model_module_version": "1.5.0",
          "state": {
            "_dom_classes": [],
            "_model_module": "@jupyter-widgets/controls",
            "_model_module_version": "1.5.0",
            "_model_name": "FloatProgressModel",
            "_view_count": null,
            "_view_module": "@jupyter-widgets/controls",
            "_view_module_version": "1.5.0",
            "_view_name": "ProgressView",
            "bar_style": "success",
            "description": "",
            "description_tooltip": null,
            "layout": "IPY_MODEL_c1db4c68b1204a9a9316739d2fb85800",
            "max": 536063208,
            "min": 0,
            "orientation": "horizontal",
            "style": "IPY_MODEL_b6517f83a0a44729b8d07fb62db1c60d",
            "value": 536063208
          }
        },
        "84bb8bbcd59c48479d6eb310ee9aaecb": {
          "model_module": "@jupyter-widgets/controls",
          "model_name": "HTMLModel",
          "model_module_version": "1.5.0",
          "state": {
            "_dom_classes": [],
            "_model_module": "@jupyter-widgets/controls",
            "_model_module_version": "1.5.0",
            "_model_name": "HTMLModel",
            "_view_count": null,
            "_view_module": "@jupyter-widgets/controls",
            "_view_module_version": "1.5.0",
            "_view_name": "HTMLView",
            "description": "",
            "description_tooltip": null,
            "layout": "IPY_MODEL_575fc1e7884a4134876ae0867106ef48",
            "placeholder": "​",
            "style": "IPY_MODEL_43f74477de0d40d997d8d6bd59de818d",
            "value": " 511M/511M [00:08&lt;00:00, 62.7MB/s]"
          }
        },
        "8529a19ee3e54c90a823c74c3898cafb": {
          "model_module": "@jupyter-widgets/base",
          "model_name": "LayoutModel",
          "model_module_version": "1.2.0",
          "state": {
            "_model_module": "@jupyter-widgets/base",
            "_model_module_version": "1.2.0",
            "_model_name": "LayoutModel",
            "_view_count": null,
            "_view_module": "@jupyter-widgets/base",
            "_view_module_version": "1.2.0",
            "_view_name": "LayoutView",
            "align_content": null,
            "align_items": null,
            "align_self": null,
            "border": null,
            "bottom": null,
            "display": null,
            "flex": null,
            "flex_flow": null,
            "grid_area": null,
            "grid_auto_columns": null,
            "grid_auto_flow": null,
            "grid_auto_rows": null,
            "grid_column": null,
            "grid_gap": null,
            "grid_row": null,
            "grid_template_areas": null,
            "grid_template_columns": null,
            "grid_template_rows": null,
            "height": null,
            "justify_content": null,
            "justify_items": null,
            "left": null,
            "margin": null,
            "max_height": null,
            "max_width": null,
            "min_height": null,
            "min_width": null,
            "object_fit": null,
            "object_position": null,
            "order": null,
            "overflow": null,
            "overflow_x": null,
            "overflow_y": null,
            "padding": null,
            "right": null,
            "top": null,
            "visibility": null,
            "width": null
          }
        },
        "380995c4880e402d8745be564a1a2e34": {
          "model_module": "@jupyter-widgets/base",
          "model_name": "LayoutModel",
          "model_module_version": "1.2.0",
          "state": {
            "_model_module": "@jupyter-widgets/base",
            "_model_module_version": "1.2.0",
            "_model_name": "LayoutModel",
            "_view_count": null,
            "_view_module": "@jupyter-widgets/base",
            "_view_module_version": "1.2.0",
            "_view_name": "LayoutView",
            "align_content": null,
            "align_items": null,
            "align_self": null,
            "border": null,
            "bottom": null,
            "display": null,
            "flex": null,
            "flex_flow": null,
            "grid_area": null,
            "grid_auto_columns": null,
            "grid_auto_flow": null,
            "grid_auto_rows": null,
            "grid_column": null,
            "grid_gap": null,
            "grid_row": null,
            "grid_template_areas": null,
            "grid_template_columns": null,
            "grid_template_rows": null,
            "height": null,
            "justify_content": null,
            "justify_items": null,
            "left": null,
            "margin": null,
            "max_height": null,
            "max_width": null,
            "min_height": null,
            "min_width": null,
            "object_fit": null,
            "object_position": null,
            "order": null,
            "overflow": null,
            "overflow_x": null,
            "overflow_y": null,
            "padding": null,
            "right": null,
            "top": null,
            "visibility": null,
            "width": null
          }
        },
        "56eb6229934c44bcbaa17bd3ce594f1a": {
          "model_module": "@jupyter-widgets/controls",
          "model_name": "DescriptionStyleModel",
          "model_module_version": "1.5.0",
          "state": {
            "_model_module": "@jupyter-widgets/controls",
            "_model_module_version": "1.5.0",
            "_model_name": "DescriptionStyleModel",
            "_view_count": null,
            "_view_module": "@jupyter-widgets/base",
            "_view_module_version": "1.2.0",
            "_view_name": "StyleView",
            "description_width": ""
          }
        },
        "c1db4c68b1204a9a9316739d2fb85800": {
          "model_module": "@jupyter-widgets/base",
          "model_name": "LayoutModel",
          "model_module_version": "1.2.0",
          "state": {
            "_model_module": "@jupyter-widgets/base",
            "_model_module_version": "1.2.0",
            "_model_name": "LayoutModel",
            "_view_count": null,
            "_view_module": "@jupyter-widgets/base",
            "_view_module_version": "1.2.0",
            "_view_name": "LayoutView",
            "align_content": null,
            "align_items": null,
            "align_self": null,
            "border": null,
            "bottom": null,
            "display": null,
            "flex": null,
            "flex_flow": null,
            "grid_area": null,
            "grid_auto_columns": null,
            "grid_auto_flow": null,
            "grid_auto_rows": null,
            "grid_column": null,
            "grid_gap": null,
            "grid_row": null,
            "grid_template_areas": null,
            "grid_template_columns": null,
            "grid_template_rows": null,
            "height": null,
            "justify_content": null,
            "justify_items": null,
            "left": null,
            "margin": null,
            "max_height": null,
            "max_width": null,
            "min_height": null,
            "min_width": null,
            "object_fit": null,
            "object_position": null,
            "order": null,
            "overflow": null,
            "overflow_x": null,
            "overflow_y": null,
            "padding": null,
            "right": null,
            "top": null,
            "visibility": null,
            "width": null
          }
        },
        "b6517f83a0a44729b8d07fb62db1c60d": {
          "model_module": "@jupyter-widgets/controls",
          "model_name": "ProgressStyleModel",
          "model_module_version": "1.5.0",
          "state": {
            "_model_module": "@jupyter-widgets/controls",
            "_model_module_version": "1.5.0",
            "_model_name": "ProgressStyleModel",
            "_view_count": null,
            "_view_module": "@jupyter-widgets/base",
            "_view_module_version": "1.2.0",
            "_view_name": "StyleView",
            "bar_color": null,
            "description_width": ""
          }
        },
        "575fc1e7884a4134876ae0867106ef48": {
          "model_module": "@jupyter-widgets/base",
          "model_name": "LayoutModel",
          "model_module_version": "1.2.0",
          "state": {
            "_model_module": "@jupyter-widgets/base",
            "_model_module_version": "1.2.0",
            "_model_name": "LayoutModel",
            "_view_count": null,
            "_view_module": "@jupyter-widgets/base",
            "_view_module_version": "1.2.0",
            "_view_name": "LayoutView",
            "align_content": null,
            "align_items": null,
            "align_self": null,
            "border": null,
            "bottom": null,
            "display": null,
            "flex": null,
            "flex_flow": null,
            "grid_area": null,
            "grid_auto_columns": null,
            "grid_auto_flow": null,
            "grid_auto_rows": null,
            "grid_column": null,
            "grid_gap": null,
            "grid_row": null,
            "grid_template_areas": null,
            "grid_template_columns": null,
            "grid_template_rows": null,
            "height": null,
            "justify_content": null,
            "justify_items": null,
            "left": null,
            "margin": null,
            "max_height": null,
            "max_width": null,
            "min_height": null,
            "min_width": null,
            "object_fit": null,
            "object_position": null,
            "order": null,
            "overflow": null,
            "overflow_x": null,
            "overflow_y": null,
            "padding": null,
            "right": null,
            "top": null,
            "visibility": null,
            "width": null
          }
        },
        "43f74477de0d40d997d8d6bd59de818d": {
          "model_module": "@jupyter-widgets/controls",
          "model_name": "DescriptionStyleModel",
          "model_module_version": "1.5.0",
          "state": {
            "_model_module": "@jupyter-widgets/controls",
            "_model_module_version": "1.5.0",
            "_model_name": "DescriptionStyleModel",
            "_view_count": null,
            "_view_module": "@jupyter-widgets/base",
            "_view_module_version": "1.2.0",
            "_view_name": "StyleView",
            "description_width": ""
          }
        }
      }
    }
  },
  "nbformat_minor": 0,
  "nbformat": 4,
  "cells": [
    {
      "cell_type": "markdown",
      "metadata": {
        "id": "view-in-github",
        "colab_type": "text"
      },
      "source": [
        "<a href=\"https://colab.research.google.com/github/vknalluri/MyProjects/blob/master/transformers2_1.ipynb\" target=\"_parent\"><img src=\"https://colab.research.google.com/assets/colab-badge.svg\" alt=\"Open In Colab\"/></a>"
      ]
    },
    {
      "cell_type": "markdown",
      "source": [
        "# Transformers for Sentiment Classification\n",
        "\n",
        "Welcome folks!, in the current project I will show you in detail how to implement four types of well-known transformer models making use of the transformers HuggingFace library and Keras API. \n",
        "\n",
        "The main task corresponds to a multi-class text classification on Movie Reviews Competition and the dataset contains 156.060 instances for training, whereas the testing set contains 66.292 from which we have to classify among 5 classes. The sentiment labels are:\n",
        "\n",
        "- 0 → Negative\n",
        "- 1 → Somewhat negative\n",
        "- 2 → Neutral\n",
        "- 3 → Somewhat positive\n",
        "- 4 → Positive\n",
        "\n",
        "At the end of the project we will summarize and compare their performance according to our requirements and metrics. \n",
        "\n"
      ],
      "metadata": {
        "id": "GuH77DaWb6kv"
      }
    },
    {
      "cell_type": "code",
      "source": [
        "import pandas as pd\n",
        "import numpy as np\n",
        "import os\n",
        "import matplotlib\n",
        "import matplotlib.pyplot as plt\n",
        "plt.style.use('ggplot')\n",
        "import seaborn as sns\n",
        "sns.set(style='whitegrid')\n",
        "\n",
        "from wordcloud import WordCloud\n",
        "\n",
        "from sklearn.feature_extraction.text import CountVectorizer, TfidfVectorizer\n",
        "from sklearn.model_selection import train_test_split\n",
        "from sklearn.decomposition import PCA, TruncatedSVD\n",
        "from sklearn.metrics import classification_report,confusion_matrix\n",
        "\n",
        "from collections import defaultdict\n",
        "from collections import Counter\n",
        "\n",
        "import re\n",
        "import gensim\n",
        "import string\n",
        "\n",
        "from tqdm import tqdm\n",
        "from keras.preprocessing.text import Tokenizer\n",
        "from keras.preprocessing.sequence import pad_sequences\n",
        "from keras.models import Sequential\n",
        "from keras.layers import Embedding, LSTM,Dense, SpatialDropout1D, Dropout\n",
        "from keras.initializers import Constant\n",
        "\n",
        "import tensorflow as tf\n",
        "import warnings\n",
        "warnings.simplefilter('ignore')"
      ],
      "metadata": {
        "id": "RBa6lCMyfjuX",
        "execution": {
          "iopub.status.busy": "2022-01-11T22:18:04.264383Z",
          "iopub.execute_input": "2022-01-11T22:18:04.265022Z",
          "iopub.status.idle": "2022-01-11T22:18:09.806803Z",
          "shell.execute_reply.started": "2022-01-11T22:18:04.264927Z",
          "shell.execute_reply": "2022-01-11T22:18:09.806031Z"
        },
        "trusted": true
      },
      "execution_count": 1,
      "outputs": []
    },
    {
      "cell_type": "markdown",
      "source": [
        "Let's start by unzipping and reading the 3 tsv files containing training, testing and sample submission:"
      ],
      "metadata": {
        "id": "79Faxj3T_D-i"
      }
    },
    {
      "cell_type": "code",
      "source": [
        "df=pd.read_csv('train.tsv', sep='\\t')\n",
        "df_test=pd.read_csv('test.tsv', sep='\\t')\n",
        "#sample_submission=pd.read_csv('../input/sentiment-analysis-on-movie-reviews/sampleSubmission.csv')"
      ],
      "metadata": {
        "execution": {
          "iopub.status.busy": "2022-01-11T22:18:13.707027Z",
          "iopub.execute_input": "2022-01-11T22:18:13.709198Z",
          "iopub.status.idle": "2022-01-11T22:18:14.075829Z",
          "shell.execute_reply.started": "2022-01-11T22:18:13.709154Z",
          "shell.execute_reply": "2022-01-11T22:18:14.07505Z"
        },
        "trusted": true,
        "id": "oeIdVuQk_D-j"
      },
      "execution_count": 2,
      "outputs": []
    },
    {
      "cell_type": "markdown",
      "source": [
        "Just to confirm the number of instances and features in each file:"
      ],
      "metadata": {
        "id": "OkDcqgcGhcA8"
      }
    },
    {
      "cell_type": "code",
      "source": [
        "df.shape, df_test.shape"
      ],
      "metadata": {
        "id": "cQilxMT3gOtX",
        "execution": {
          "iopub.status.busy": "2022-01-11T22:18:18.181678Z",
          "iopub.execute_input": "2022-01-11T22:18:18.182241Z",
          "iopub.status.idle": "2022-01-11T22:18:18.190261Z",
          "shell.execute_reply.started": "2022-01-11T22:18:18.1822Z",
          "shell.execute_reply": "2022-01-11T22:18:18.189471Z"
        },
        "trusted": true,
        "colab": {
          "base_uri": "https://localhost:8080/"
        },
        "outputId": "038222a9-8ce4-4edb-a6b1-b855fe521b62"
      },
      "execution_count": 3,
      "outputs": [
        {
          "output_type": "execute_result",
          "data": {
            "text/plain": [
              "((156060, 4), (66292, 3))"
            ]
          },
          "metadata": {},
          "execution_count": 3
        }
      ]
    },
    {
      "cell_type": "code",
      "source": [
        "df"
      ],
      "metadata": {
        "id": "EAANxWYcgOYi",
        "outputId": "b8bbb52f-d7aa-4369-97c6-bba881b1c972",
        "execution": {
          "iopub.status.busy": "2022-01-11T20:20:58.082099Z",
          "iopub.execute_input": "2022-01-11T20:20:58.082492Z",
          "iopub.status.idle": "2022-01-11T20:20:58.124996Z",
          "shell.execute_reply.started": "2022-01-11T20:20:58.08242Z",
          "shell.execute_reply": "2022-01-11T20:20:58.124213Z"
        },
        "trusted": true,
        "colab": {
          "base_uri": "https://localhost:8080/",
          "height": 419
        }
      },
      "execution_count": 4,
      "outputs": [
        {
          "output_type": "execute_result",
          "data": {
            "text/plain": [
              "        PhraseId  SentenceId  \\\n",
              "0              1           1   \n",
              "1              2           1   \n",
              "2              3           1   \n",
              "3              4           1   \n",
              "4              5           1   \n",
              "...          ...         ...   \n",
              "156055    156056        8544   \n",
              "156056    156057        8544   \n",
              "156057    156058        8544   \n",
              "156058    156059        8544   \n",
              "156059    156060        8544   \n",
              "\n",
              "                                                   Phrase  Sentiment  \n",
              "0       A series of escapades demonstrating the adage ...          1  \n",
              "1       A series of escapades demonstrating the adage ...          2  \n",
              "2                                                A series          2  \n",
              "3                                                       A          2  \n",
              "4                                                  series          2  \n",
              "...                                                   ...        ...  \n",
              "156055                                          Hearst 's          2  \n",
              "156056                          forced avuncular chortles          1  \n",
              "156057                                 avuncular chortles          3  \n",
              "156058                                          avuncular          2  \n",
              "156059                                           chortles          2  \n",
              "\n",
              "[156060 rows x 4 columns]"
            ],
            "text/html": [
              "\n",
              "  <div id=\"df-b0592bb6-26e7-46af-baeb-f9331fcf7071\">\n",
              "    <div class=\"colab-df-container\">\n",
              "      <div>\n",
              "<style scoped>\n",
              "    .dataframe tbody tr th:only-of-type {\n",
              "        vertical-align: middle;\n",
              "    }\n",
              "\n",
              "    .dataframe tbody tr th {\n",
              "        vertical-align: top;\n",
              "    }\n",
              "\n",
              "    .dataframe thead th {\n",
              "        text-align: right;\n",
              "    }\n",
              "</style>\n",
              "<table border=\"1\" class=\"dataframe\">\n",
              "  <thead>\n",
              "    <tr style=\"text-align: right;\">\n",
              "      <th></th>\n",
              "      <th>PhraseId</th>\n",
              "      <th>SentenceId</th>\n",
              "      <th>Phrase</th>\n",
              "      <th>Sentiment</th>\n",
              "    </tr>\n",
              "  </thead>\n",
              "  <tbody>\n",
              "    <tr>\n",
              "      <th>0</th>\n",
              "      <td>1</td>\n",
              "      <td>1</td>\n",
              "      <td>A series of escapades demonstrating the adage ...</td>\n",
              "      <td>1</td>\n",
              "    </tr>\n",
              "    <tr>\n",
              "      <th>1</th>\n",
              "      <td>2</td>\n",
              "      <td>1</td>\n",
              "      <td>A series of escapades demonstrating the adage ...</td>\n",
              "      <td>2</td>\n",
              "    </tr>\n",
              "    <tr>\n",
              "      <th>2</th>\n",
              "      <td>3</td>\n",
              "      <td>1</td>\n",
              "      <td>A series</td>\n",
              "      <td>2</td>\n",
              "    </tr>\n",
              "    <tr>\n",
              "      <th>3</th>\n",
              "      <td>4</td>\n",
              "      <td>1</td>\n",
              "      <td>A</td>\n",
              "      <td>2</td>\n",
              "    </tr>\n",
              "    <tr>\n",
              "      <th>4</th>\n",
              "      <td>5</td>\n",
              "      <td>1</td>\n",
              "      <td>series</td>\n",
              "      <td>2</td>\n",
              "    </tr>\n",
              "    <tr>\n",
              "      <th>...</th>\n",
              "      <td>...</td>\n",
              "      <td>...</td>\n",
              "      <td>...</td>\n",
              "      <td>...</td>\n",
              "    </tr>\n",
              "    <tr>\n",
              "      <th>156055</th>\n",
              "      <td>156056</td>\n",
              "      <td>8544</td>\n",
              "      <td>Hearst 's</td>\n",
              "      <td>2</td>\n",
              "    </tr>\n",
              "    <tr>\n",
              "      <th>156056</th>\n",
              "      <td>156057</td>\n",
              "      <td>8544</td>\n",
              "      <td>forced avuncular chortles</td>\n",
              "      <td>1</td>\n",
              "    </tr>\n",
              "    <tr>\n",
              "      <th>156057</th>\n",
              "      <td>156058</td>\n",
              "      <td>8544</td>\n",
              "      <td>avuncular chortles</td>\n",
              "      <td>3</td>\n",
              "    </tr>\n",
              "    <tr>\n",
              "      <th>156058</th>\n",
              "      <td>156059</td>\n",
              "      <td>8544</td>\n",
              "      <td>avuncular</td>\n",
              "      <td>2</td>\n",
              "    </tr>\n",
              "    <tr>\n",
              "      <th>156059</th>\n",
              "      <td>156060</td>\n",
              "      <td>8544</td>\n",
              "      <td>chortles</td>\n",
              "      <td>2</td>\n",
              "    </tr>\n",
              "  </tbody>\n",
              "</table>\n",
              "<p>156060 rows × 4 columns</p>\n",
              "</div>\n",
              "      <button class=\"colab-df-convert\" onclick=\"convertToInteractive('df-b0592bb6-26e7-46af-baeb-f9331fcf7071')\"\n",
              "              title=\"Convert this dataframe to an interactive table.\"\n",
              "              style=\"display:none;\">\n",
              "        \n",
              "  <svg xmlns=\"http://www.w3.org/2000/svg\" height=\"24px\"viewBox=\"0 0 24 24\"\n",
              "       width=\"24px\">\n",
              "    <path d=\"M0 0h24v24H0V0z\" fill=\"none\"/>\n",
              "    <path d=\"M18.56 5.44l.94 2.06.94-2.06 2.06-.94-2.06-.94-.94-2.06-.94 2.06-2.06.94zm-11 1L8.5 8.5l.94-2.06 2.06-.94-2.06-.94L8.5 2.5l-.94 2.06-2.06.94zm10 10l.94 2.06.94-2.06 2.06-.94-2.06-.94-.94-2.06-.94 2.06-2.06.94z\"/><path d=\"M17.41 7.96l-1.37-1.37c-.4-.4-.92-.59-1.43-.59-.52 0-1.04.2-1.43.59L10.3 9.45l-7.72 7.72c-.78.78-.78 2.05 0 2.83L4 21.41c.39.39.9.59 1.41.59.51 0 1.02-.2 1.41-.59l7.78-7.78 2.81-2.81c.8-.78.8-2.07 0-2.86zM5.41 20L4 18.59l7.72-7.72 1.47 1.35L5.41 20z\"/>\n",
              "  </svg>\n",
              "      </button>\n",
              "      \n",
              "  <style>\n",
              "    .colab-df-container {\n",
              "      display:flex;\n",
              "      flex-wrap:wrap;\n",
              "      gap: 12px;\n",
              "    }\n",
              "\n",
              "    .colab-df-convert {\n",
              "      background-color: #E8F0FE;\n",
              "      border: none;\n",
              "      border-radius: 50%;\n",
              "      cursor: pointer;\n",
              "      display: none;\n",
              "      fill: #1967D2;\n",
              "      height: 32px;\n",
              "      padding: 0 0 0 0;\n",
              "      width: 32px;\n",
              "    }\n",
              "\n",
              "    .colab-df-convert:hover {\n",
              "      background-color: #E2EBFA;\n",
              "      box-shadow: 0px 1px 2px rgba(60, 64, 67, 0.3), 0px 1px 3px 1px rgba(60, 64, 67, 0.15);\n",
              "      fill: #174EA6;\n",
              "    }\n",
              "\n",
              "    [theme=dark] .colab-df-convert {\n",
              "      background-color: #3B4455;\n",
              "      fill: #D2E3FC;\n",
              "    }\n",
              "\n",
              "    [theme=dark] .colab-df-convert:hover {\n",
              "      background-color: #434B5C;\n",
              "      box-shadow: 0px 1px 3px 1px rgba(0, 0, 0, 0.15);\n",
              "      filter: drop-shadow(0px 1px 2px rgba(0, 0, 0, 0.3));\n",
              "      fill: #FFFFFF;\n",
              "    }\n",
              "  </style>\n",
              "\n",
              "      <script>\n",
              "        const buttonEl =\n",
              "          document.querySelector('#df-b0592bb6-26e7-46af-baeb-f9331fcf7071 button.colab-df-convert');\n",
              "        buttonEl.style.display =\n",
              "          google.colab.kernel.accessAllowed ? 'block' : 'none';\n",
              "\n",
              "        async function convertToInteractive(key) {\n",
              "          const element = document.querySelector('#df-b0592bb6-26e7-46af-baeb-f9331fcf7071');\n",
              "          const dataTable =\n",
              "            await google.colab.kernel.invokeFunction('convertToInteractive',\n",
              "                                                     [key], {});\n",
              "          if (!dataTable) return;\n",
              "\n",
              "          const docLinkHtml = 'Like what you see? Visit the ' +\n",
              "            '<a target=\"_blank\" href=https://colab.research.google.com/notebooks/data_table.ipynb>data table notebook</a>'\n",
              "            + ' to learn more about interactive tables.';\n",
              "          element.innerHTML = '';\n",
              "          dataTable['output_type'] = 'display_data';\n",
              "          await google.colab.output.renderOutput(dataTable, element);\n",
              "          const docLink = document.createElement('div');\n",
              "          docLink.innerHTML = docLinkHtml;\n",
              "          element.appendChild(docLink);\n",
              "        }\n",
              "      </script>\n",
              "    </div>\n",
              "  </div>\n",
              "  "
            ]
          },
          "metadata": {},
          "execution_count": 4
        }
      ]
    },
    {
      "cell_type": "markdown",
      "source": [
        "Above we can see that Phrase and Sentiment columns are all we need from the file in order to train the models later, therefore we will use these as feature (X) and label (Y) when fitting the transformer."
      ],
      "metadata": {
        "id": "kbDefpsRehFP"
      }
    },
    {
      "cell_type": "code",
      "source": [
        "df_test"
      ],
      "metadata": {
        "id": "ZHx_haSZgeSA",
        "outputId": "f02c03e8-044e-4b09-d760-6de938f615cd",
        "execution": {
          "iopub.status.busy": "2022-01-11T20:20:58.128791Z",
          "iopub.execute_input": "2022-01-11T20:20:58.129579Z",
          "iopub.status.idle": "2022-01-11T20:20:58.15322Z",
          "shell.execute_reply.started": "2022-01-11T20:20:58.129535Z",
          "shell.execute_reply": "2022-01-11T20:20:58.152512Z"
        },
        "trusted": true,
        "colab": {
          "base_uri": "https://localhost:8080/",
          "height": 419
        }
      },
      "execution_count": 5,
      "outputs": [
        {
          "output_type": "execute_result",
          "data": {
            "text/plain": [
              "       PhraseId  SentenceId                                             Phrase\n",
              "0        156061        8545  An intermittently pleasing but mostly routine ...\n",
              "1        156062        8545  An intermittently pleasing but mostly routine ...\n",
              "2        156063        8545                                                 An\n",
              "3        156064        8545  intermittently pleasing but mostly routine effort\n",
              "4        156065        8545         intermittently pleasing but mostly routine\n",
              "...         ...         ...                                                ...\n",
              "66287    222348       11855             A long-winded , predictable scenario .\n",
              "66288    222349       11855               A long-winded , predictable scenario\n",
              "66289    222350       11855                                    A long-winded ,\n",
              "66290    222351       11855                                      A long-winded\n",
              "66291    222352       11855                               predictable scenario\n",
              "\n",
              "[66292 rows x 3 columns]"
            ],
            "text/html": [
              "\n",
              "  <div id=\"df-bae791b5-b515-4f99-81cb-01ef835f3fa2\">\n",
              "    <div class=\"colab-df-container\">\n",
              "      <div>\n",
              "<style scoped>\n",
              "    .dataframe tbody tr th:only-of-type {\n",
              "        vertical-align: middle;\n",
              "    }\n",
              "\n",
              "    .dataframe tbody tr th {\n",
              "        vertical-align: top;\n",
              "    }\n",
              "\n",
              "    .dataframe thead th {\n",
              "        text-align: right;\n",
              "    }\n",
              "</style>\n",
              "<table border=\"1\" class=\"dataframe\">\n",
              "  <thead>\n",
              "    <tr style=\"text-align: right;\">\n",
              "      <th></th>\n",
              "      <th>PhraseId</th>\n",
              "      <th>SentenceId</th>\n",
              "      <th>Phrase</th>\n",
              "    </tr>\n",
              "  </thead>\n",
              "  <tbody>\n",
              "    <tr>\n",
              "      <th>0</th>\n",
              "      <td>156061</td>\n",
              "      <td>8545</td>\n",
              "      <td>An intermittently pleasing but mostly routine ...</td>\n",
              "    </tr>\n",
              "    <tr>\n",
              "      <th>1</th>\n",
              "      <td>156062</td>\n",
              "      <td>8545</td>\n",
              "      <td>An intermittently pleasing but mostly routine ...</td>\n",
              "    </tr>\n",
              "    <tr>\n",
              "      <th>2</th>\n",
              "      <td>156063</td>\n",
              "      <td>8545</td>\n",
              "      <td>An</td>\n",
              "    </tr>\n",
              "    <tr>\n",
              "      <th>3</th>\n",
              "      <td>156064</td>\n",
              "      <td>8545</td>\n",
              "      <td>intermittently pleasing but mostly routine effort</td>\n",
              "    </tr>\n",
              "    <tr>\n",
              "      <th>4</th>\n",
              "      <td>156065</td>\n",
              "      <td>8545</td>\n",
              "      <td>intermittently pleasing but mostly routine</td>\n",
              "    </tr>\n",
              "    <tr>\n",
              "      <th>...</th>\n",
              "      <td>...</td>\n",
              "      <td>...</td>\n",
              "      <td>...</td>\n",
              "    </tr>\n",
              "    <tr>\n",
              "      <th>66287</th>\n",
              "      <td>222348</td>\n",
              "      <td>11855</td>\n",
              "      <td>A long-winded , predictable scenario .</td>\n",
              "    </tr>\n",
              "    <tr>\n",
              "      <th>66288</th>\n",
              "      <td>222349</td>\n",
              "      <td>11855</td>\n",
              "      <td>A long-winded , predictable scenario</td>\n",
              "    </tr>\n",
              "    <tr>\n",
              "      <th>66289</th>\n",
              "      <td>222350</td>\n",
              "      <td>11855</td>\n",
              "      <td>A long-winded ,</td>\n",
              "    </tr>\n",
              "    <tr>\n",
              "      <th>66290</th>\n",
              "      <td>222351</td>\n",
              "      <td>11855</td>\n",
              "      <td>A long-winded</td>\n",
              "    </tr>\n",
              "    <tr>\n",
              "      <th>66291</th>\n",
              "      <td>222352</td>\n",
              "      <td>11855</td>\n",
              "      <td>predictable scenario</td>\n",
              "    </tr>\n",
              "  </tbody>\n",
              "</table>\n",
              "<p>66292 rows × 3 columns</p>\n",
              "</div>\n",
              "      <button class=\"colab-df-convert\" onclick=\"convertToInteractive('df-bae791b5-b515-4f99-81cb-01ef835f3fa2')\"\n",
              "              title=\"Convert this dataframe to an interactive table.\"\n",
              "              style=\"display:none;\">\n",
              "        \n",
              "  <svg xmlns=\"http://www.w3.org/2000/svg\" height=\"24px\"viewBox=\"0 0 24 24\"\n",
              "       width=\"24px\">\n",
              "    <path d=\"M0 0h24v24H0V0z\" fill=\"none\"/>\n",
              "    <path d=\"M18.56 5.44l.94 2.06.94-2.06 2.06-.94-2.06-.94-.94-2.06-.94 2.06-2.06.94zm-11 1L8.5 8.5l.94-2.06 2.06-.94-2.06-.94L8.5 2.5l-.94 2.06-2.06.94zm10 10l.94 2.06.94-2.06 2.06-.94-2.06-.94-.94-2.06-.94 2.06-2.06.94z\"/><path d=\"M17.41 7.96l-1.37-1.37c-.4-.4-.92-.59-1.43-.59-.52 0-1.04.2-1.43.59L10.3 9.45l-7.72 7.72c-.78.78-.78 2.05 0 2.83L4 21.41c.39.39.9.59 1.41.59.51 0 1.02-.2 1.41-.59l7.78-7.78 2.81-2.81c.8-.78.8-2.07 0-2.86zM5.41 20L4 18.59l7.72-7.72 1.47 1.35L5.41 20z\"/>\n",
              "  </svg>\n",
              "      </button>\n",
              "      \n",
              "  <style>\n",
              "    .colab-df-container {\n",
              "      display:flex;\n",
              "      flex-wrap:wrap;\n",
              "      gap: 12px;\n",
              "    }\n",
              "\n",
              "    .colab-df-convert {\n",
              "      background-color: #E8F0FE;\n",
              "      border: none;\n",
              "      border-radius: 50%;\n",
              "      cursor: pointer;\n",
              "      display: none;\n",
              "      fill: #1967D2;\n",
              "      height: 32px;\n",
              "      padding: 0 0 0 0;\n",
              "      width: 32px;\n",
              "    }\n",
              "\n",
              "    .colab-df-convert:hover {\n",
              "      background-color: #E2EBFA;\n",
              "      box-shadow: 0px 1px 2px rgba(60, 64, 67, 0.3), 0px 1px 3px 1px rgba(60, 64, 67, 0.15);\n",
              "      fill: #174EA6;\n",
              "    }\n",
              "\n",
              "    [theme=dark] .colab-df-convert {\n",
              "      background-color: #3B4455;\n",
              "      fill: #D2E3FC;\n",
              "    }\n",
              "\n",
              "    [theme=dark] .colab-df-convert:hover {\n",
              "      background-color: #434B5C;\n",
              "      box-shadow: 0px 1px 3px 1px rgba(0, 0, 0, 0.15);\n",
              "      filter: drop-shadow(0px 1px 2px rgba(0, 0, 0, 0.3));\n",
              "      fill: #FFFFFF;\n",
              "    }\n",
              "  </style>\n",
              "\n",
              "      <script>\n",
              "        const buttonEl =\n",
              "          document.querySelector('#df-bae791b5-b515-4f99-81cb-01ef835f3fa2 button.colab-df-convert');\n",
              "        buttonEl.style.display =\n",
              "          google.colab.kernel.accessAllowed ? 'block' : 'none';\n",
              "\n",
              "        async function convertToInteractive(key) {\n",
              "          const element = document.querySelector('#df-bae791b5-b515-4f99-81cb-01ef835f3fa2');\n",
              "          const dataTable =\n",
              "            await google.colab.kernel.invokeFunction('convertToInteractive',\n",
              "                                                     [key], {});\n",
              "          if (!dataTable) return;\n",
              "\n",
              "          const docLinkHtml = 'Like what you see? Visit the ' +\n",
              "            '<a target=\"_blank\" href=https://colab.research.google.com/notebooks/data_table.ipynb>data table notebook</a>'\n",
              "            + ' to learn more about interactive tables.';\n",
              "          element.innerHTML = '';\n",
              "          dataTable['output_type'] = 'display_data';\n",
              "          await google.colab.output.renderOutput(dataTable, element);\n",
              "          const docLink = document.createElement('div');\n",
              "          docLink.innerHTML = docLinkHtml;\n",
              "          element.appendChild(docLink);\n",
              "        }\n",
              "      </script>\n",
              "    </div>\n",
              "  </div>\n",
              "  "
            ]
          },
          "metadata": {},
          "execution_count": 5
        }
      ]
    },
    {
      "cell_type": "markdown",
      "source": [
        "In case there is a null or empty value in any column we should have to get rid of it, in order to find it out we will use info() as follows:"
      ],
      "metadata": {
        "id": "PwGONtBGfOFc"
      }
    },
    {
      "cell_type": "code",
      "source": [
        "df.info()"
      ],
      "metadata": {
        "id": "G7lRw4Ixgh2p",
        "outputId": "f0cffbf2-e267-48ee-bf90-b98a1a38fb1f",
        "execution": {
          "iopub.status.busy": "2022-01-11T20:20:58.158042Z",
          "iopub.execute_input": "2022-01-11T20:20:58.160465Z",
          "iopub.status.idle": "2022-01-11T20:20:58.218099Z",
          "shell.execute_reply.started": "2022-01-11T20:20:58.160423Z",
          "shell.execute_reply": "2022-01-11T20:20:58.21707Z"
        },
        "trusted": true,
        "colab": {
          "base_uri": "https://localhost:8080/"
        }
      },
      "execution_count": 6,
      "outputs": [
        {
          "output_type": "stream",
          "name": "stdout",
          "text": [
            "<class 'pandas.core.frame.DataFrame'>\n",
            "RangeIndex: 156060 entries, 0 to 156059\n",
            "Data columns (total 4 columns):\n",
            " #   Column      Non-Null Count   Dtype \n",
            "---  ------      --------------   ----- \n",
            " 0   PhraseId    156060 non-null  int64 \n",
            " 1   SentenceId  156060 non-null  int64 \n",
            " 2   Phrase      156060 non-null  object\n",
            " 3   Sentiment   156060 non-null  int64 \n",
            "dtypes: int64(3), object(1)\n",
            "memory usage: 4.8+ MB\n"
          ]
        }
      ]
    },
    {
      "cell_type": "code",
      "source": [
        "df.isnull().sum()"
      ],
      "metadata": {
        "id": "G3z9i6Vightg",
        "outputId": "f9322a89-e79e-42a2-cfe8-9b7a7795d063",
        "execution": {
          "iopub.status.busy": "2022-01-11T20:20:58.219956Z",
          "iopub.execute_input": "2022-01-11T20:20:58.220419Z",
          "iopub.status.idle": "2022-01-11T20:20:58.264888Z",
          "shell.execute_reply.started": "2022-01-11T20:20:58.220379Z",
          "shell.execute_reply": "2022-01-11T20:20:58.263801Z"
        },
        "trusted": true,
        "colab": {
          "base_uri": "https://localhost:8080/"
        }
      },
      "execution_count": 7,
      "outputs": [
        {
          "output_type": "execute_result",
          "data": {
            "text/plain": [
              "PhraseId      0\n",
              "SentenceId    0\n",
              "Phrase        0\n",
              "Sentiment     0\n",
              "dtype: int64"
            ]
          },
          "metadata": {},
          "execution_count": 7
        }
      ]
    },
    {
      "cell_type": "markdown",
      "source": [
        "The dataset looks good and we need to know how are distributed the 5 classes in the label so as to know it's balanced or not.\n"
      ],
      "metadata": {
        "id": "s8oPUCrefceD"
      }
    },
    {
      "cell_type": "code",
      "source": [
        "df.Sentiment.value_counts()"
      ],
      "metadata": {
        "id": "wCVbmr49gmmw",
        "outputId": "61fda48c-4da2-4006-ca9b-68299a8e0084",
        "execution": {
          "iopub.status.busy": "2022-01-11T20:20:58.269079Z",
          "iopub.execute_input": "2022-01-11T20:20:58.269628Z",
          "iopub.status.idle": "2022-01-11T20:20:58.279765Z",
          "shell.execute_reply.started": "2022-01-11T20:20:58.269588Z",
          "shell.execute_reply": "2022-01-11T20:20:58.279028Z"
        },
        "trusted": true,
        "colab": {
          "base_uri": "https://localhost:8080/"
        }
      },
      "execution_count": 8,
      "outputs": [
        {
          "output_type": "execute_result",
          "data": {
            "text/plain": [
              "2    79582\n",
              "3    32927\n",
              "1    27273\n",
              "4     9206\n",
              "0     7072\n",
              "Name: Sentiment, dtype: int64"
            ]
          },
          "metadata": {},
          "execution_count": 8
        }
      ]
    },
    {
      "cell_type": "code",
      "source": [
        "df2=df.copy(deep=True)\n",
        "pie1=pd.DataFrame(df2['Sentiment'].replace(0,'Negative').replace(1,'Somewhat negative').replace(2,'Neutral').replace(3,'Somewhat positive').replace(4,'Positive').value_counts())\n",
        "pie1.reset_index(inplace=True)\n",
        "pie1.plot(kind='pie', title='Pie chart of Sentiment Class',y = 'Sentiment', \n",
        "          autopct='%1.1f%%', shadow=False, labels=pie1['index'], legend = False, fontsize=14, figsize=(12,12))"
      ],
      "metadata": {
        "id": "6_S-X5wchv8Q",
        "outputId": "3eb0c50a-8e0c-4338-83f1-33ce62503b54",
        "execution": {
          "iopub.status.busy": "2022-01-11T20:20:58.281355Z",
          "iopub.execute_input": "2022-01-11T20:20:58.281823Z",
          "iopub.status.idle": "2022-01-11T20:20:58.72272Z",
          "shell.execute_reply.started": "2022-01-11T20:20:58.281786Z",
          "shell.execute_reply": "2022-01-11T20:20:58.722011Z"
        },
        "trusted": true,
        "colab": {
          "base_uri": "https://localhost:8080/",
          "height": 716
        }
      },
      "execution_count": 9,
      "outputs": [
        {
          "output_type": "execute_result",
          "data": {
            "text/plain": [
              "<matplotlib.axes._subplots.AxesSubplot at 0x7f1b24d2f4d0>"
            ]
          },
          "metadata": {},
          "execution_count": 9
        },
        {
          "output_type": "display_data",
          "data": {
            "text/plain": [
              "<Figure size 864x864 with 1 Axes>"
            ],
            "image/png": "[encoded data removed]"
          },
          "metadata": {}
        }
      ]
    },
    {
      "cell_type": "markdown",
      "source": [
        "The label is considerably unbalanced, only 'Neutral' corresponds to more than 50% of instances and there is a slightly skewed towards positive reviews. Early we can say the class to be predicted will be sidetracked toward the more frequent classes, this is why we need a text balancing technique just like 'SMOTE' for numerical features."
      ],
      "metadata": {
        "id": "H3onsWjcf_Kw"
      }
    },
    {
      "cell_type": "markdown",
      "source": [
        "Time now to find out the number of words in reviews, in order to understand a bit better we will plot histograms for each class "
      ],
      "metadata": {
        "id": "Bd4mCZ0piH6E"
      }
    },
    {
      "cell_type": "code",
      "source": [
        "f, (ax1, ax2, ax3, ax4, ax5) = plt.subplots(1,5,figsize=(25,8))\n",
        "\n",
        "ax1.hist(df[df['Sentiment'] == 0]['Phrase'].str.split().map(lambda x: len(x)), bins=50, color='b')\n",
        "ax1.set_title('Negative Reviews')\n",
        "\n",
        "ax2.hist(df[df['Sentiment'] == 1]['Phrase'].str.split().map(lambda x: len(x)), bins=50, color='r')\n",
        "ax2.set_title('Somewhat Negative Reviews')\n",
        "\n",
        "ax3.hist(df[df['Sentiment'] == 2]['Phrase'].str.split().map(lambda x: len(x)), bins=50, color='g')\n",
        "ax3.set_title('Neutral Reviews')\n",
        "\n",
        "ax4.hist(df[df['Sentiment'] == 3]['Phrase'].str.split().map(lambda x: len(x)), bins=50, color='y')\n",
        "ax4.set_title('Somewhat Positive Reviews')\n",
        "\n",
        "ax5.hist(df[df['Sentiment'] == 4]['Phrase'].str.split().map(lambda x: len(x)), bins=50, color='k')\n",
        "ax5.set_title('Positive Reviews')\n",
        "\n",
        "f.suptitle('Histogram number of words in reviews')"
      ],
      "metadata": {
        "id": "KzMoa4mthIUY",
        "execution": {
          "iopub.status.busy": "2022-01-11T20:20:58.724104Z",
          "iopub.execute_input": "2022-01-11T20:20:58.724897Z",
          "iopub.status.idle": "2022-01-11T20:21:00.905758Z",
          "shell.execute_reply.started": "2022-01-11T20:20:58.724852Z",
          "shell.execute_reply": "2022-01-11T20:21:00.905035Z"
        },
        "trusted": true,
        "colab": {
          "base_uri": "https://localhost:8080/",
          "height": 531
        },
        "outputId": "bc74d24d-8402-460f-d358-04e64d2b1b47"
      },
      "execution_count": 10,
      "outputs": [
        {
          "output_type": "execute_result",
          "data": {
            "text/plain": [
              "Text(0.5, 0.98, 'Histogram number of words in reviews')"
            ]
          },
          "metadata": {},
          "execution_count": 10
        },
        {
          "output_type": "display_data",
          "data": {
            "text/plain": [
              "<Figure size 1800x576 with 5 Axes>"
            ],
            "image/png": "[encoded data removed]"
          },
          "metadata": {
            "needs_background": "light"
          }
        }
      ]
    },
    {
      "cell_type": "markdown",
      "source": [
        "In the 5 histograms we can see the distribution behaves like a negative exponential function decreasing significatively as the x-axis increases. It seems like the longest sentence in Phrase column corresponds to a class 'Negative Reviews' and is around 52 words, now let's  obtain the longest one by using the max() function: "
      ],
      "metadata": {
        "id": "5Uk_y04kjZnS"
      }
    },
    {
      "cell_type": "code",
      "source": [
        "df['Phrase'].str.split().map(lambda x: len(x)).max()"
      ],
      "metadata": {
        "id": "e4gi07fS0zTY",
        "outputId": "d32d04c8-690b-405d-8c06-49271282625b",
        "execution": {
          "iopub.status.busy": "2022-01-11T20:21:00.907361Z",
          "iopub.execute_input": "2022-01-11T20:21:00.907852Z",
          "iopub.status.idle": "2022-01-11T20:21:01.425598Z",
          "shell.execute_reply.started": "2022-01-11T20:21:00.907811Z",
          "shell.execute_reply": "2022-01-11T20:21:01.424895Z"
        },
        "trusted": true,
        "colab": {
          "base_uri": "https://localhost:8080/"
        }
      },
      "execution_count": 11,
      "outputs": [
        {
          "output_type": "execute_result",
          "data": {
            "text/plain": [
              "52"
            ]
          },
          "metadata": {},
          "execution_count": 11
        }
      ]
    },
    {
      "cell_type": "markdown",
      "source": [
        "Effectively was 52 words, this means if we would Tokenize by word the max_length should be 52, however as transformers consider sub-words tokenization such number could be increased depending on the words being used which can increase such length to 60 or even more, thus we have to take that into account when modeling as it could cause our model to take significatively a long time to train, therefore we have to find a trade-off between training time and performance."
      ],
      "metadata": {
        "id": "Uc2CTeG4juJU"
      }
    },
    {
      "cell_type": "code",
      "source": [
        "dfff=pd.DataFrame(df['Phrase'].str.split().map(lambda x: len(x))>=20)\n",
        "print('Number of sentences which contain more than 20 words: ', dfff.loc[dfff['Phrase']==True].shape[0])\n",
        "print(' ')\n",
        "dfff=pd.DataFrame(df['Phrase'].str.split().map(lambda x: len(x))>=30)\n",
        "print('Number of sentences which contain more than 30 words: ', dfff.loc[dfff['Phrase']==True].shape[0])\n",
        "print(' ')\n",
        "dfff=pd.DataFrame(df['Phrase'].str.split().map(lambda x: len(x))>=40)\n",
        "print('Number of sentences which contain more than 40 words: ', dfff.loc[dfff['Phrase']==True].shape[0])\n",
        "print(' ')\n",
        "dfff=pd.DataFrame(df['Phrase'].str.split().map(lambda x: len(x))>=50)\n",
        "print('Number of sentences which contain more than 50 words: ', dfff.loc[dfff['Phrase']==True].shape[0])\n",
        "print(' ')\n",
        "dfff=pd.DataFrame(df['Phrase'].str.split().map(lambda x: len(x))==52)\n",
        "print('Number of sentences which contain 52 words: ', dfff.loc[dfff['Phrase']==True].shape[0])\n",
        "print(' ')\n",
        "#dfff.loc[dfff['Phrase']==True]"
      ],
      "metadata": {
        "id": "P7wUZNM5lqvW",
        "execution": {
          "iopub.status.busy": "2022-01-11T20:21:01.426941Z",
          "iopub.execute_input": "2022-01-11T20:21:01.427206Z",
          "iopub.status.idle": "2022-01-11T20:21:03.928238Z",
          "shell.execute_reply.started": "2022-01-11T20:21:01.427155Z",
          "shell.execute_reply": "2022-01-11T20:21:03.927451Z"
        },
        "trusted": true,
        "colab": {
          "base_uri": "https://localhost:8080/"
        },
        "outputId": "1db24b7f-f407-4c0a-b54e-2f78cda42b81"
      },
      "execution_count": 12,
      "outputs": [
        {
          "output_type": "stream",
          "name": "stdout",
          "text": [
            "Number of sentences which contain more than 20 words:  11494\n",
            " \n",
            "Number of sentences which contain more than 30 words:  2568\n",
            " \n",
            "Number of sentences which contain more than 40 words:  352\n",
            " \n",
            "Number of sentences which contain more than 50 words:  18\n",
            " \n",
            "Number of sentences which contain 52 words:  3\n",
            " \n"
          ]
        }
      ]
    },
    {
      "cell_type": "markdown",
      "source": [
        "Above we see 352 reviews contain more than 40 words and only 18 reviews above 50 words, these two number corresponds to a tiny proportion of the total number of instances (156.060), therefore setting to these numbers will not affect too much the classification. Below we can see an example of a sentence containing 52 words, observe there are misspelled words, acronyms and some of them can be decomposed into sub-words:"
      ],
      "metadata": {
        "id": "VD5esMKDmrDR"
      }
    },
    {
      "cell_type": "code",
      "source": [
        "print(df.loc[87835,'Phrase'])"
      ],
      "metadata": {
        "id": "5O72UkvOwkc_",
        "outputId": "3f9f535e-0712-4580-cf88-41fc84e3a7d5",
        "execution": {
          "iopub.status.busy": "2022-01-11T20:21:03.929739Z",
          "iopub.execute_input": "2022-01-11T20:21:03.929994Z",
          "iopub.status.idle": "2022-01-11T20:21:03.941878Z",
          "shell.execute_reply.started": "2022-01-11T20:21:03.92996Z",
          "shell.execute_reply": "2022-01-11T20:21:03.940986Z"
        },
        "trusted": true,
        "colab": {
          "base_uri": "https://localhost:8080/"
        }
      },
      "execution_count": 13,
      "outputs": [
        {
          "output_type": "stream",
          "name": "stdout",
          "text": [
            "There are n't too many films that can be as simultaneously funny , offbeat and heartwarming -LRB- without a thick shmear of the goo , at least -RRB- , but `` Elling '' manages to do all three quite well , making it one of the year 's most enjoyable releases .\n"
          ]
        }
      ]
    },
    {
      "cell_type": "markdown",
      "source": [
        "# Modeling\n",
        "\n",
        "In this step we will build, train and compare the following algorithms:\n",
        "\n",
        "- BERT (Bidirectional Encoder Representation from Transformers)\n",
        "- RoBERTa (Robustly Optimized BERT Pre-training Approach)\n",
        "- DistilBERT (Distilled BERT)\n",
        "- XLNet (Generalized Auto-Regressive model)\n",
        "\n",
        "Each one of the mentioned have its pros and cons, the most preferred and widely used model is the BERT for being the middle term in performance, whereas RoBERTa and .. are known for their better error metrics and DistilBERT for its faster training. We will consider all of these chracteristics and choose the best one for our dataset.\n",
        "\n",
        "Firstly, we have to install the transformers library offered by HuggingFace so as enable all useful functions when building the four models."
      ],
      "metadata": {
        "id": "sysAtyUFjRYb"
      }
    },
    {
      "cell_type": "code",
      "source": [
        "!pip install --upgrade transformers"
      ],
      "metadata": {
        "id": "sxG72tcciNYM",
        "outputId": "a8a2e3c8-c7f3-45f3-b5a3-9dfa9f8b9313",
        "execution": {
          "iopub.status.busy": "2022-01-11T20:21:03.943407Z",
          "iopub.execute_input": "2022-01-11T20:21:03.943783Z",
          "iopub.status.idle": "2022-01-11T20:21:13.21765Z",
          "shell.execute_reply.started": "2022-01-11T20:21:03.943739Z",
          "shell.execute_reply": "2022-01-11T20:21:13.216669Z"
        },
        "trusted": true,
        "colab": {
          "base_uri": "https://localhost:8080/"
        }
      },
      "execution_count": 14,
      "outputs": [
        {
          "output_type": "stream",
          "name": "stdout",
          "text": [
            "Collecting transformers\n",
            "  Downloading transformers-4.18.0-py3-none-any.whl (4.0 MB)\n",
            "\u001b[K     |████████████████████████████████| 4.0 MB 5.3 MB/s \n",
            "\u001b[?25hCollecting sacremoses\n",
            "  Downloading sacremoses-0.0.53.tar.gz (880 kB)\n",
            "\u001b[K     |████████████████████████████████| 880 kB 75.1 MB/s \n",
            "\u001b[?25hRequirement already satisfied: tqdm>=4.27 in /usr/local/lib/python3.7/dist-packages (from transformers) (4.64.0)\n",
            "Collecting pyyaml>=5.1\n",
            "  Downloading PyYAML-6.0-cp37-cp37m-manylinux_2_5_x86_64.manylinux1_x86_64.manylinux_2_12_x86_64.manylinux2010_x86_64.whl (596 kB)\n",
            "\u001b[K     |████████████████████████████████| 596 kB 69.5 MB/s \n",
            "\u001b[?25hRequirement already satisfied: packaging>=20.0 in /usr/local/lib/python3.7/dist-packages (from transformers) (21.3)\n",
            "Requirement already satisfied: filelock in /usr/local/lib/python3.7/dist-packages (from transformers) (3.6.0)\n",
            "Requirement already satisfied: importlib-metadata in /usr/local/lib/python3.7/dist-packages (from transformers) (4.11.3)\n",
            "Collecting huggingface-hub<1.0,>=0.1.0\n",
            "  Downloading huggingface_hub-0.5.1-py3-none-any.whl (77 kB)\n",
            "\u001b[K     |████████████████████████████████| 77 kB 7.0 MB/s \n",
            "\u001b[?25hCollecting tokenizers!=0.11.3,<0.13,>=0.11.1\n",
            "  Downloading tokenizers-0.12.1-cp37-cp37m-manylinux_2_12_x86_64.manylinux2010_x86_64.whl (6.6 MB)\n",
            "\u001b[K     |████████████████████████████████| 6.6 MB 74.7 MB/s \n",
            "\u001b[?25hRequirement already satisfied: numpy>=1.17 in /usr/local/lib/python3.7/dist-packages (from transformers) (1.21.6)\n",
            "Requirement already satisfied: regex!=2019.12.17 in /usr/local/lib/python3.7/dist-packages (from transformers) (2019.12.20)\n",
            "Requirement already satisfied: requests in /usr/local/lib/python3.7/dist-packages (from transformers) (2.23.0)\n",
            "Requirement already satisfied: typing-extensions>=3.7.4.3 in /usr/local/lib/python3.7/dist-packages (from huggingface-hub<1.0,>=0.1.0->transformers) (4.2.0)\n",
            "Requirement already satisfied: pyparsing!=3.0.5,>=2.0.2 in /usr/local/lib/python3.7/dist-packages (from packaging>=20.0->transformers) (3.0.8)\n",
            "Requirement already satisfied: zipp>=0.5 in /usr/local/lib/python3.7/dist-packages (from importlib-metadata->transformers) (3.8.0)\n",
            "Requirement already satisfied: idna<3,>=2.5 in /usr/local/lib/python3.7/dist-packages (from requests->transformers) (2.10)\n",
            "Requirement already satisfied: urllib3!=1.25.0,!=1.25.1,<1.26,>=1.21.1 in /usr/local/lib/python3.7/dist-packages (from requests->transformers) (1.24.3)\n",
            "Requirement already satisfied: certifi>=2017.4.17 in /usr/local/lib/python3.7/dist-packages (from requests->transformers) (2021.10.8)\n",
            "Requirement already satisfied: chardet<4,>=3.0.2 in /usr/local/lib/python3.7/dist-packages (from requests->transformers) (3.0.4)\n",
            "Requirement already satisfied: six in /usr/local/lib/python3.7/dist-packages (from sacremoses->transformers) (1.15.0)\n",
            "Requirement already satisfied: click in /usr/local/lib/python3.7/dist-packages (from sacremoses->transformers) (7.1.2)\n",
            "Requirement already satisfied: joblib in /usr/local/lib/python3.7/dist-packages (from sacremoses->transformers) (1.1.0)\n",
            "Building wheels for collected packages: sacremoses\n",
            "  Building wheel for sacremoses (setup.py) ... \u001b[?25l\u001b[?25hdone\n",
            "  Created wheel for sacremoses: filename=sacremoses-0.0.53-py3-none-any.whl size=895260 sha256=d84cbe980b2db36bdc78596b7a0d90c08a6b2822685da3ccfbd69a84d9318479\n",
            "  Stored in directory: /root/.cache/pip/wheels/87/39/dd/a83eeef36d0bf98e7a4d1933a4ad2d660295a40613079bafc9\n",
            "Successfully built sacremoses\n",
            "Installing collected packages: pyyaml, tokenizers, sacremoses, huggingface-hub, transformers\n",
            "  Attempting uninstall: pyyaml\n",
            "    Found existing installation: PyYAML 3.13\n",
            "    Uninstalling PyYAML-3.13:\n",
            "      Successfully uninstalled PyYAML-3.13\n",
            "Successfully installed huggingface-hub-0.5.1 pyyaml-6.0 sacremoses-0.0.53 tokenizers-0.12.1 transformers-4.18.0\n"
          ]
        }
      ]
    },
    {
      "cell_type": "markdown",
      "source": [
        "Then what we need from tensorflow.keras:"
      ],
      "metadata": {
        "id": "6zZU6oIMq1kL"
      }
    },
    {
      "cell_type": "code",
      "source": [
        "from tensorflow.keras.layers import Input, Dropout, Dense\n",
        "from tensorflow.keras.models import Model\n",
        "from tensorflow.keras.optimizers import Adam\n",
        "from tensorflow.keras.callbacks import EarlyStopping\n",
        "from tensorflow.keras.initializers import TruncatedNormal\n",
        "from tensorflow.keras.losses import CategoricalCrossentropy\n",
        "from tensorflow.keras.metrics import CategoricalAccuracy\n",
        "from tensorflow.keras.utils import to_categorical\n",
        "\n",
        "import pandas as pd\n",
        "from sklearn.model_selection import train_test_split"
      ],
      "metadata": {
        "id": "vNQ15zGUiaIg",
        "execution": {
          "iopub.status.busy": "2022-01-11T22:18:35.651719Z",
          "iopub.execute_input": "2022-01-11T22:18:35.651993Z",
          "iopub.status.idle": "2022-01-11T22:18:35.97734Z",
          "shell.execute_reply.started": "2022-01-11T22:18:35.651961Z",
          "shell.execute_reply": "2022-01-11T22:18:35.976587Z"
        },
        "trusted": true
      },
      "execution_count": 15,
      "outputs": []
    },
    {
      "cell_type": "markdown",
      "source": [
        "Now we have to gather from the dataset only the two columns useful for training (Phrase and Sentiment):"
      ],
      "metadata": {
        "id": "-whqjU5LrBnR"
      }
    },
    {
      "cell_type": "code",
      "source": [
        "data = df[['Phrase', 'Sentiment']]\n",
        "\n",
        "# Set your model output as categorical and save in new label col\n",
        "data['Sentiment_label'] = pd.Categorical(data['Sentiment'])\n",
        "\n",
        "# Transform your output to numeric\n",
        "data['Sentiment'] = data['Sentiment_label'].cat.codes"
      ],
      "metadata": {
        "id": "rT0Pqd62ieJq",
        "execution": {
          "iopub.status.busy": "2022-01-11T22:18:38.528486Z",
          "iopub.execute_input": "2022-01-11T22:18:38.529088Z",
          "iopub.status.idle": "2022-01-11T22:18:38.557094Z",
          "shell.execute_reply.started": "2022-01-11T22:18:38.529034Z",
          "shell.execute_reply": "2022-01-11T22:18:38.55614Z"
        },
        "trusted": true
      },
      "execution_count": 16,
      "outputs": []
    },
    {
      "cell_type": "markdown",
      "source": [
        "Split into train and validation set, as the file contains more than 150 thousand instances we can consider only a small portion of it as validation and still the number is relatively long, because of this we will set the test_size to 10% as follows:"
      ],
      "metadata": {
        "id": "eKNkFPEproAx"
      }
    },
    {
      "cell_type": "code",
      "source": [
        "data_train, data_val = train_test_split(data, test_size = 0.1)"
      ],
      "metadata": {
        "id": "bdNSiORernck",
        "execution": {
          "iopub.status.busy": "2022-01-11T22:18:39.776877Z",
          "iopub.execute_input": "2022-01-11T22:18:39.777152Z",
          "iopub.status.idle": "2022-01-11T22:18:39.801946Z",
          "shell.execute_reply.started": "2022-01-11T22:18:39.777123Z",
          "shell.execute_reply": "2022-01-11T22:18:39.801225Z"
        },
        "trusted": true
      },
      "execution_count": 17,
      "outputs": []
    },
    {
      "cell_type": "markdown",
      "source": [
        "# Bert"
      ],
      "metadata": {
        "id": "lryrxcu73H8w"
      }
    },
    {
      "cell_type": "markdown",
      "source": [
        "As first step we have to import the Model, Config and Tokenizer corresponding to Bert in order to build properly the model. "
      ],
      "metadata": {
        "id": "dz3-QngG_D-z"
      }
    },
    {
      "cell_type": "code",
      "source": [
        "from transformers import TFBertModel,  BertConfig, BertTokenizerFast"
      ],
      "metadata": {
        "id": "Sk6YUfbaKzHh",
        "execution": {
          "iopub.status.busy": "2022-01-11T20:21:13.620584Z",
          "iopub.execute_input": "2022-01-11T20:21:13.621118Z",
          "iopub.status.idle": "2022-01-11T20:21:15.423399Z",
          "shell.execute_reply.started": "2022-01-11T20:21:13.621078Z",
          "shell.execute_reply": "2022-01-11T20:21:15.422561Z"
        },
        "trusted": true
      },
      "execution_count": 18,
      "outputs": []
    },
    {
      "cell_type": "markdown",
      "source": [
        "The model we will use is 'bert_base_uncased' and the max_length chosen is 45 as there are only a very small number of larger sequences."
      ],
      "metadata": {
        "id": "yk24qZV1_D-0"
      }
    },
    {
      "cell_type": "code",
      "source": [
        "# Name of the BERT model to use\n",
        "model_name = 'bert-base-uncased'\n",
        "\n",
        "# Max length of tokens\n",
        "max_length = 45\n",
        "\n",
        "# Load transformers config and set output_hidden_states to False\n",
        "config = BertConfig.from_pretrained(model_name)\n",
        "config.output_hidden_states = False\n",
        "\n",
        "# Load BERT tokenizer\n",
        "tokenizer = BertTokenizerFast.from_pretrained(pretrained_model_name_or_path = model_name, config = config)\n",
        "\n",
        "# Load the Transformers BERT model\n",
        "transformer_bert_model = TFBertModel.from_pretrained(model_name, config = config)"
      ],
      "metadata": {
        "id": "j6w85aIijCeb",
        "outputId": "ab935d87-f608-4b9b-a4a8-d4a8bdbe344b",
        "execution": {
          "iopub.status.busy": "2022-01-11T20:21:15.424679Z",
          "iopub.execute_input": "2022-01-11T20:21:15.426576Z",
          "iopub.status.idle": "2022-01-11T20:21:42.658606Z",
          "shell.execute_reply.started": "2022-01-11T20:21:15.426529Z",
          "shell.execute_reply": "2022-01-11T20:21:42.657592Z"
        },
        "trusted": true,
        "colab": {
          "base_uri": "https://localhost:8080/",
          "height": 282,
          "referenced_widgets": [
            "5c5879bca8c74e2e913bcb8cbc4bf979",
            "dfdafd8357854dd189837f24be68781d",
            "aaeda877cf004375bf5cd95fca032e3c",
            "379026ef4ec24f999ef717d7e490e481",
            "425d1ec6319b49e485fc393ba6700121",
            "8a2a6aa330af44d2bdde13679b0063c4",
            "1545642fced741f48b83ff5b73542a37",
            "17720a19dbd44ac98f38faee1310b0d0",
            "660d4827f7344702bd6d08827ee77559",
            "c7e57fd91bac42c0be8a5981469473cb",
            "18042475e4a84e65b00cce17eb980fad",
            "401366a3d778458eb963450b73769a6c",
            "7e4aca34fff84a83a713482a6be4cd53",
            "fe5f29d6e01b45238284b8aa41706ada",
            "f59ec60c994c4b60aa194f44fe926339",
            "bf3ad7385be841438e13e5ceec9be05f",
            "1684313bb19947d3bd53243863e76eca",
            "0c3777b674c74a4f8204284d4ff24a72",
            "c2354e6b41524d1790db36658b915ca1",
            "31421922543e4575aa38bfaa081a8659",
            "f680ccb97ca7426ead98bad51300514c",
            "f271e76aa64940db8f99832a2976e05b",
            "543f26269c6b40f18bd2c60e48160512",
            "0eba18e3406549f8b84bc64c97d2b9bd",
            "12f1cebeaa9c4ac88206de7b5642bc7e",
            "90aa35a57be54dd28095dd027f4c51ce",
            "22f6dc85caba44ed8198ac07be7f1b90",
            "5dbd54f820c54fad9247b9eabcca1936",
            "ff56f893c7b84c3f8d43bca7de1d3ec5",
            "94c9248f0b0b4d5ea731e167f976bd1f",
            "1edb928edc3d4440ab67ff711ed1a647",
            "7f9b91308ad74e9fa2b8b3ea09f2bce3",
            "4d0b49d40c9b4a47a884ed2cbe234ac6",
            "30b437605e4c40e1bbdbbc68cf639a55",
            "60fb31dd0753475a8d72f9c9d770a40a",
            "50f3507d026344e4802dfc014d0ac5bb",
            "c3e37fe818584bdb92b85f3ffdb683b4",
            "0cdce09fa3ff4e3c84a177042b687ec2",
            "e8fd58e0b16c4812b9a4cbbdcb8eb557",
            "714a0c1490ca4d5190b099c5cf907652",
            "23d5706ab521407180c02bba2e89a4a7",
            "afc195856e2c4b5ebd90b252ddacfc9f",
            "a6f3d979b18d495da5f92a1ce1b252d1",
            "26085ab4840d4d0fb57e0f9d834e4b7e",
            "10f0978d637943ac880d9dc96fad6775",
            "2b94cdc5635742759823a3363b7b3764",
            "3fd3710a4d91460b8987966fd0b96a22",
            "84bb8bbcd59c48479d6eb310ee9aaecb",
            "8529a19ee3e54c90a823c74c3898cafb",
            "380995c4880e402d8745be564a1a2e34",
            "56eb6229934c44bcbaa17bd3ce594f1a",
            "c1db4c68b1204a9a9316739d2fb85800",
            "b6517f83a0a44729b8d07fb62db1c60d",
            "575fc1e7884a4134876ae0867106ef48",
            "43f74477de0d40d997d8d6bd59de818d"
          ]
        }
      },
      "execution_count": 19,
      "outputs": [
        {
          "output_type": "display_data",
          "data": {
            "text/plain": [
              "Downloading:   0%|          | 0.00/570 [00:00<?, ?B/s]"
            ],
            "application/vnd.jupyter.widget-view+json": {
              "version_major": 2,
              "version_minor": 0,
              "model_id": "5c5879bca8c74e2e913bcb8cbc4bf979"
            }
          },
          "metadata": {}
        },
        {
          "output_type": "display_data",
          "data": {
            "text/plain": [
              "Downloading:   0%|          | 0.00/28.0 [00:00<?, ?B/s]"
            ],
            "application/vnd.jupyter.widget-view+json": {
              "version_major": 2,
              "version_minor": 0,
              "model_id": "401366a3d778458eb963450b73769a6c"
            }
          },
          "metadata": {}
        },
        {
          "output_type": "display_data",
          "data": {
            "text/plain": [
              "Downloading:   0%|          | 0.00/226k [00:00<?, ?B/s]"
            ],
            "application/vnd.jupyter.widget-view+json": {
              "version_major": 2,
              "version_minor": 0,
              "model_id": "543f26269c6b40f18bd2c60e48160512"
            }
          },
          "metadata": {}
        },
        {
          "output_type": "display_data",
          "data": {
            "text/plain": [
              "Downloading:   0%|          | 0.00/455k [00:00<?, ?B/s]"
            ],
            "application/vnd.jupyter.widget-view+json": {
              "version_major": 2,
              "version_minor": 0,
              "model_id": "30b437605e4c40e1bbdbbc68cf639a55"
            }
          },
          "metadata": {}
        },
        {
          "output_type": "display_data",
          "data": {
            "text/plain": [
              "Downloading:   0%|          | 0.00/511M [00:00<?, ?B/s]"
            ],
            "application/vnd.jupyter.widget-view+json": {
              "version_major": 2,
              "version_minor": 0,
              "model_id": "10f0978d637943ac880d9dc96fad6775"
            }
          },
          "metadata": {}
        },
        {
          "output_type": "stream",
          "name": "stderr",
          "text": [
            "Some layers from the model checkpoint at bert-base-uncased were not used when initializing TFBertModel: ['mlm___cls', 'nsp___cls']\n",
            "- This IS expected if you are initializing TFBertModel from the checkpoint of a model trained on another task or with another architecture (e.g. initializing a BertForSequenceClassification model from a BertForPreTraining model).\n",
            "- This IS NOT expected if you are initializing TFBertModel from the checkpoint of a model that you expect to be exactly identical (initializing a BertForSequenceClassification model from a BertForSequenceClassification model).\n",
            "All the layers of TFBertModel were initialized from the model checkpoint at bert-base-uncased.\n",
            "If your task is similar to the task the model of the checkpoint was trained on, you can already use TFBertModel for predictions without further training.\n"
          ]
        }
      ]
    },
    {
      "cell_type": "markdown",
      "source": [
        "Now that our model has been loaded we can start the processes of building and tuning according to our dataset and task using the functional API of keras.\n",
        "\n",
        "As we see below the input layer must consider the max_length of sequences and then this is fed to the bert model, a dropout layer to reduce overfitting (0.1) and finally a dense layer with number of neurons equal to number of classes in our label (5)."
      ],
      "metadata": {
        "id": "jMQKNupN_D-1"
      }
    },
    {
      "cell_type": "code",
      "source": [
        "### ------- Build the model ------- ###\n",
        "\n",
        "# Load the MainLayer\n",
        "bert = transformer_bert_model.layers[0]\n",
        "\n",
        "# Build your model input\n",
        "input_ids = Input(shape=(max_length,), name='input_ids', dtype='int32')\n",
        "inputs = {'input_ids': input_ids}\n",
        "\n",
        "# Load the Transformers BERT model as a layer in a Keras model\n",
        "bert_model = bert(inputs)[1]\n",
        "dropout = Dropout(config.hidden_dropout_prob, name='pooled_output')\n",
        "pooled_output = dropout(bert_model, training=False)\n",
        "\n",
        "# Then build your model output\n",
        "Sentiments = Dense(units=len(data_train.Sentiment_label.value_counts()), kernel_initializer=TruncatedNormal(stddev=config.initializer_range), name='Sentiment')(pooled_output)\n",
        "outputs = {'Sentiment': Sentiments}\n",
        "\n",
        "# And combine it all in a model object\n",
        "model = Model(inputs=inputs, outputs=outputs, name='BERT_MultiClass')\n",
        "\n",
        "# Take a look at the model\n",
        "model.summary()"
      ],
      "metadata": {
        "id": "ITPZPIy2k5kC",
        "outputId": "2d7eed0d-41da-438c-9039-dd2fe8c32618",
        "execution": {
          "iopub.status.busy": "2022-01-11T20:21:42.659951Z",
          "iopub.execute_input": "2022-01-11T20:21:42.660621Z",
          "iopub.status.idle": "2022-01-11T20:21:49.119258Z",
          "shell.execute_reply.started": "2022-01-11T20:21:42.660581Z",
          "shell.execute_reply": "2022-01-11T20:21:49.11851Z"
        },
        "trusted": true,
        "colab": {
          "base_uri": "https://localhost:8080/"
        }
      },
      "execution_count": 20,
      "outputs": [
        {
          "output_type": "stream",
          "name": "stdout",
          "text": [
            "Model: \"BERT_MultiClass\"\n",
            "_________________________________________________________________\n",
            " Layer (type)                Output Shape              Param #   \n",
            "=================================================================\n",
            " input_ids (InputLayer)      [(None, 45)]              0         \n",
            "                                                                 \n",
            " bert (TFBertMainLayer)      TFBaseModelOutputWithPoo  109482240 \n",
            "                             lingAndCrossAttentions(l            \n",
            "                             ast_hidden_state=(None,             \n",
            "                             45, 768),                           \n",
            "                              pooler_output=(None, 76            \n",
            "                             8),                                 \n",
            "                              past_key_values=None, h            \n",
            "                             idden_states=None, atten            \n",
            "                             tions=None, cross_attent            \n",
            "                             ions=None)                          \n",
            "                                                                 \n",
            " pooled_output (Dropout)     (None, 768)               0         \n",
            "                                                                 \n",
            " Sentiment (Dense)           (None, 5)                 3845      \n",
            "                                                                 \n",
            "=================================================================\n",
            "Total params: 109,486,085\n",
            "Trainable params: 109,486,085\n",
            "Non-trainable params: 0\n",
            "_________________________________________________________________\n"
          ]
        }
      ]
    },
    {
      "cell_type": "markdown",
      "source": [
        "The next cell considers the tokenization of training and validation sentences, setting of label as categorical and finally model training."
      ],
      "metadata": {
        "id": "wYzxflUS_D-2"
      }
    },
    {
      "cell_type": "code",
      "source": [
        "### ------- Train the model ------- ###\n",
        "\n",
        "# Set an optimizer\n",
        "optimizer = Adam(learning_rate=5e-05,epsilon=1e-08,decay=0.01,clipnorm=1.0)\n",
        "\n",
        "# Set loss and metrics\n",
        "loss = {'Sentiment': CategoricalCrossentropy(from_logits = True)}\n",
        "\n",
        "# Compile the model\n",
        "model.compile(optimizer = optimizer, loss = loss, metrics = ['accuracy'])\n",
        "\n",
        "# Ready output data for the model\n",
        "y_train = to_categorical(data_train['Sentiment'])\n",
        "\n",
        "# Tokenize the input (takes some time)\n",
        "x_train = tokenizer(\n",
        "          text=data_train['Phrase'].to_list(),\n",
        "          add_special_tokens=True,\n",
        "          max_length=max_length,\n",
        "          truncation=True,\n",
        "          padding=True, \n",
        "          return_tensors='tf',\n",
        "          return_token_type_ids = False,\n",
        "          return_attention_mask = True,\n",
        "          verbose = True)\n",
        "\n",
        "y_val = to_categorical(data_val['Sentiment'])\n",
        "\n",
        "x_val = tokenizer(\n",
        "          text=data_val['Phrase'].to_list(),\n",
        "          add_special_tokens=True,\n",
        "          max_length=max_length,\n",
        "          truncation=True,\n",
        "          padding=True, \n",
        "          return_tensors='tf',\n",
        "          return_token_type_ids = False,\n",
        "          return_attention_mask = True,\n",
        "          verbose = True)\n",
        "\n",
        "# Fit the model\n",
        "history = model.fit(\n",
        "    x={'input_ids': x_train['input_ids']},\n",
        "    y={'Sentiment': y_train},\n",
        "    validation_data=({'input_ids': x_val['input_ids']},{'Sentiment': y_val}),\n",
        "    batch_size=64,\n",
        "    epochs=2,\n",
        "    verbose=1)"
      ],
      "metadata": {
        "id": "KaJKyCvulvDu",
        "execution": {
          "iopub.status.busy": "2022-01-11T20:21:49.120696Z",
          "iopub.execute_input": "2022-01-11T20:21:49.120952Z",
          "iopub.status.idle": "2022-01-11T20:49:39.746327Z",
          "shell.execute_reply.started": "2022-01-11T20:21:49.120917Z",
          "shell.execute_reply": "2022-01-11T20:49:39.745514Z"
        },
        "trusted": true,
        "colab": {
          "base_uri": "https://localhost:8080/"
        },
        "outputId": "fc74db70-3ba9-40bb-e5aa-e734ba2d01d1"
      },
      "execution_count": 21,
      "outputs": [
        {
          "output_type": "stream",
          "name": "stdout",
          "text": [
            "Epoch 1/2\n",
            "2195/2195 [==============================] - 6811s 3s/step - loss: 0.8035 - accuracy: 0.6666 - val_loss: 0.7554 - val_accuracy: 0.6826\n",
            "Epoch 2/2\n",
            "2195/2195 [==============================] - 6573s 3s/step - loss: 0.7081 - accuracy: 0.7069 - val_loss: 0.7385 - val_accuracy: 0.6916\n"
          ]
        }
      ]
    },
    {
      "cell_type": "markdown",
      "source": [
        "The model took 27 minutes and 20 seconds to train for 2 epochs."
      ],
      "metadata": {
        "id": "JnkcMRVC_D-4"
      }
    },
    {
      "cell_type": "markdown",
      "source": [
        "## Evaluate on validation set:\n",
        "\n",
        "We will compute the error metrics on the validation set in order to have an idea of the model performance."
      ],
      "metadata": {
        "id": "8drvIVReAlUF"
      }
    },
    {
      "cell_type": "code",
      "source": [
        "model_eval = model.evaluate(\n",
        "    x={'input_ids': x_val['input_ids']},\n",
        "    y={'Sentiment': y_val}\n",
        ")"
      ],
      "metadata": {
        "id": "f-yBifB2zppy",
        "execution": {
          "iopub.status.busy": "2022-01-11T20:51:29.209382Z",
          "iopub.execute_input": "2022-01-11T20:51:29.209647Z",
          "iopub.status.idle": "2022-01-11T20:52:07.4507Z",
          "shell.execute_reply.started": "2022-01-11T20:51:29.209619Z",
          "shell.execute_reply": "2022-01-11T20:52:07.449888Z"
        },
        "trusted": true,
        "colab": {
          "base_uri": "https://localhost:8080/"
        },
        "outputId": "46cd1fd1-88ae-42ae-b8c8-b371e15ef2ee"
      },
      "execution_count": 22,
      "outputs": [
        {
          "output_type": "stream",
          "name": "stdout",
          "text": [
            "488/488 [==============================] - 302s 619ms/step - loss: 0.7385 - accuracy: 0.6916\n"
          ]
        }
      ]
    },
    {
      "cell_type": "code",
      "source": [
        "y_val_predicted = model.predict(\n",
        "    x={'input_ids': x_val['input_ids']},\n",
        ")"
      ],
      "metadata": {
        "id": "4WoB8mRSzpZR",
        "execution": {
          "iopub.status.busy": "2022-01-11T20:52:07.452874Z",
          "iopub.execute_input": "2022-01-11T20:52:07.453286Z",
          "iopub.status.idle": "2022-01-11T20:52:50.872268Z",
          "shell.execute_reply.started": "2022-01-11T20:52:07.45324Z",
          "shell.execute_reply": "2022-01-11T20:52:50.871431Z"
        },
        "trusted": true
      },
      "execution_count": 23,
      "outputs": []
    },
    {
      "cell_type": "markdown",
      "source": [
        "y_val_predicted corresponds to a numpy array representing the instances and the prediction as one-hot encoded, the actual label is formatted in the same manner, let's them see in detail:"
      ],
      "metadata": {
        "id": "FdC7rPHy_D-5"
      }
    },
    {
      "cell_type": "code",
      "source": [
        "y_val_predicted['Sentiment']"
      ],
      "metadata": {
        "id": "Vc8ZG_uG0A9_",
        "execution": {
          "iopub.status.busy": "2022-01-11T20:52:59.133816Z",
          "iopub.execute_input": "2022-01-11T20:52:59.134455Z",
          "iopub.status.idle": "2022-01-11T20:52:59.146208Z",
          "shell.execute_reply.started": "2022-01-11T20:52:59.134408Z",
          "shell.execute_reply": "2022-01-11T20:52:59.145383Z"
        },
        "trusted": true,
        "colab": {
          "base_uri": "https://localhost:8080/"
        },
        "outputId": "635f3c11-98b2-4ba1-8482-a9ab1b664ceb"
      },
      "execution_count": 24,
      "outputs": [
        {
          "output_type": "execute_result",
          "data": {
            "text/plain": [
              "array([[-3.7198782 , -1.695698  ,  2.5250015 ,  2.9341633 , -0.43891746],\n",
              "       [-3.1544085 , -0.45828354,  4.5009456 ,  1.347527  , -2.490345  ],\n",
              "       [-2.7583578 , -2.6113045 , -0.2027465 ,  2.8010125 ,  2.712204  ],\n",
              "       ...,\n",
              "       [-3.6432552 , -0.73009276,  2.8734205 ,  2.5730793 , -1.3927963 ],\n",
              "       [-3.212163  , -0.29313385,  4.4478536 ,  1.358183  , -2.7082644 ],\n",
              "       [-3.756278  , -1.769789  ,  1.893703  ,  2.944277  ,  0.24745458]],\n",
              "      dtype=float32)"
            ]
          },
          "metadata": {},
          "execution_count": 24
        }
      ]
    },
    {
      "cell_type": "code",
      "source": [
        "y_val"
      ],
      "metadata": {
        "id": "xMhJKp6j0QKu",
        "execution": {
          "iopub.status.busy": "2022-01-11T20:53:06.316316Z",
          "iopub.execute_input": "2022-01-11T20:53:06.316961Z",
          "iopub.status.idle": "2022-01-11T20:53:06.322962Z",
          "shell.execute_reply.started": "2022-01-11T20:53:06.316923Z",
          "shell.execute_reply": "2022-01-11T20:53:06.321997Z"
        },
        "trusted": true,
        "colab": {
          "base_uri": "https://localhost:8080/"
        },
        "outputId": "c1953955-e2d7-402a-984b-30ae841c5de0"
      },
      "execution_count": 25,
      "outputs": [
        {
          "output_type": "execute_result",
          "data": {
            "text/plain": [
              "array([[0., 0., 1., 0., 0.],\n",
              "       [0., 0., 1., 0., 0.],\n",
              "       [0., 0., 0., 0., 1.],\n",
              "       ...,\n",
              "       [0., 0., 1., 0., 0.],\n",
              "       [0., 0., 1., 0., 0.],\n",
              "       [0., 0., 0., 1., 0.]], dtype=float32)"
            ]
          },
          "metadata": {},
          "execution_count": 25
        }
      ]
    },
    {
      "cell_type": "markdown",
      "source": [
        "In order to compute the classification report and confusion matrix we will convert the matrices to one column representing the argmax for each row:"
      ],
      "metadata": {
        "id": "xu2Z-gk7_D-6"
      }
    },
    {
      "cell_type": "code",
      "source": [
        "y_val_pred_max=[np.argmax(i) for i in y_val_predicted['Sentiment']]"
      ],
      "metadata": {
        "id": "NjuJ2S9p0QC4",
        "execution": {
          "iopub.status.busy": "2022-01-11T20:53:27.427075Z",
          "iopub.execute_input": "2022-01-11T20:53:27.427866Z",
          "iopub.status.idle": "2022-01-11T20:53:27.475906Z",
          "shell.execute_reply.started": "2022-01-11T20:53:27.427831Z",
          "shell.execute_reply": "2022-01-11T20:53:27.475192Z"
        },
        "trusted": true
      },
      "execution_count": 26,
      "outputs": []
    },
    {
      "cell_type": "code",
      "source": [
        "y_val_actual_max=[np.argmax(i) for i in y_val]"
      ],
      "metadata": {
        "id": "4JW34Cit0dPb",
        "execution": {
          "iopub.status.busy": "2022-01-11T20:53:27.872712Z",
          "iopub.execute_input": "2022-01-11T20:53:27.87331Z",
          "iopub.status.idle": "2022-01-11T20:53:27.923654Z",
          "shell.execute_reply.started": "2022-01-11T20:53:27.873267Z",
          "shell.execute_reply": "2022-01-11T20:53:27.922906Z"
        },
        "trusted": true
      },
      "execution_count": 27,
      "outputs": []
    },
    {
      "cell_type": "code",
      "source": [
        "from sklearn.metrics import classification_report\n",
        "\n",
        "report = classification_report(y_val_pred_max, y_val_actual_max)\n",
        "\n",
        "print(report)"
      ],
      "metadata": {
        "id": "gErIUNLY0e5B",
        "execution": {
          "iopub.status.busy": "2022-01-11T20:53:31.127106Z",
          "iopub.execute_input": "2022-01-11T20:53:31.12772Z",
          "iopub.status.idle": "2022-01-11T20:53:31.172307Z",
          "shell.execute_reply.started": "2022-01-11T20:53:31.127678Z",
          "shell.execute_reply": "2022-01-11T20:53:31.171525Z"
        },
        "trusted": true,
        "colab": {
          "base_uri": "https://localhost:8080/"
        },
        "outputId": "a026f81d-8cb8-4262-8a7e-19ba22fa8c3d"
      },
      "execution_count": 28,
      "outputs": [
        {
          "output_type": "stream",
          "name": "stdout",
          "text": [
            "              precision    recall  f1-score   support\n",
            "\n",
            "           0       0.46      0.54      0.50       635\n",
            "           1       0.61      0.57      0.59      2969\n",
            "           2       0.78      0.79      0.79      7796\n",
            "           3       0.64      0.62      0.63      3362\n",
            "           4       0.54      0.56      0.55       844\n",
            "\n",
            "    accuracy                           0.69     15606\n",
            "   macro avg       0.61      0.62      0.61     15606\n",
            "weighted avg       0.69      0.69      0.69     15606\n",
            "\n"
          ]
        }
      ]
    },
    {
      "cell_type": "markdown",
      "source": [
        "The fact that our dataset is unbalanced in classes makes our prediction absolutely sidetracked towards the most frequent class, in this case (2: 'Neutral'), because of this the performance of the model is poor when predicting classes 0 or 4, making our model almost unuseful for this task. Below we can see for these 2 classes the number of misclassifications is huge."
      ],
      "metadata": {
        "id": "xoAy1Ef4_D-7"
      }
    },
    {
      "cell_type": "code",
      "source": [
        "from sklearn.metrics import confusion_matrix, ConfusionMatrixDisplay\n",
        "\n",
        "disp = ConfusionMatrixDisplay(confusion_matrix=confusion_matrix(y_val_pred_max, y_val_actual_max), display_labels=np.unique(y_val_actual_max))\n",
        "disp.plot(cmap='Blues') \n",
        "plt.grid(False)"
      ],
      "metadata": {
        "id": "ub8k6M2K0evb",
        "execution": {
          "iopub.status.busy": "2022-01-11T20:53:49.666194Z",
          "iopub.execute_input": "2022-01-11T20:53:49.667115Z",
          "iopub.status.idle": "2022-01-11T20:53:50.021031Z",
          "shell.execute_reply.started": "2022-01-11T20:53:49.667066Z",
          "shell.execute_reply": "2022-01-11T20:53:50.020107Z"
        },
        "trusted": true,
        "colab": {
          "base_uri": "https://localhost:8080/",
          "height": 285
        },
        "outputId": "aabe50da-9218-408b-bccd-36a6e464faaf"
      },
      "execution_count": 29,
      "outputs": [
        {
          "output_type": "display_data",
          "data": {
            "text/plain": [
              "<Figure size 432x288 with 2 Axes>"
            ],
            "image/png": "[encoded data removed]"
          },
          "metadata": {
            "needs_background": "light"
          }
        }
      ]
    },
    {
      "cell_type": "markdown",
      "source": [
        "## Inference:\n",
        "\n",
        "In this step we will predict the classes corresponding to the test set (out-of-bag) instances, because of the huge dataset we can expect to have almost same performance."
      ],
      "metadata": {
        "id": "fr7guSOLAvUN"
      }
    },
    {
      "cell_type": "code",
      "source": [
        "x_test = tokenizer(\n",
        "          text=df_test['Phrase'].to_list(),\n",
        "          add_special_tokens=True,\n",
        "          max_length=max_length,\n",
        "          truncation=True,\n",
        "          padding=True, \n",
        "          return_tensors='tf',\n",
        "          return_token_type_ids = False,\n",
        "          return_attention_mask = False,\n",
        "          verbose = True)"
      ],
      "metadata": {
        "id": "Bw_hlmMYnJXN",
        "execution": {
          "iopub.status.busy": "2022-01-11T20:53:57.950764Z",
          "iopub.execute_input": "2022-01-11T20:53:57.951023Z",
          "iopub.status.idle": "2022-01-11T20:54:00.774188Z",
          "shell.execute_reply.started": "2022-01-11T20:53:57.950994Z",
          "shell.execute_reply": "2022-01-11T20:54:00.773471Z"
        },
        "trusted": true
      },
      "execution_count": 30,
      "outputs": []
    },
    {
      "cell_type": "code",
      "source": [
        "label_predicted = model.predict(\n",
        "    x={'input_ids': x_test['input_ids']},\n",
        ")"
      ],
      "metadata": {
        "id": "_NJRMKctnZmA",
        "execution": {
          "iopub.status.busy": "2022-01-11T20:54:05.634323Z",
          "iopub.execute_input": "2022-01-11T20:54:05.634874Z",
          "iopub.status.idle": "2022-01-11T20:57:27.587563Z",
          "shell.execute_reply.started": "2022-01-11T20:54:05.634837Z",
          "shell.execute_reply": "2022-01-11T20:57:27.586761Z"
        },
        "trusted": true
      },
      "execution_count": 31,
      "outputs": []
    },
    {
      "cell_type": "code",
      "source": [
        "label_predicted['Sentiment']"
      ],
      "metadata": {
        "id": "f6fo_-YNnjZ6",
        "execution": {
          "iopub.status.busy": "2022-01-11T20:57:30.735153Z",
          "iopub.execute_input": "2022-01-11T20:57:30.73608Z",
          "iopub.status.idle": "2022-01-11T20:57:30.743255Z",
          "shell.execute_reply.started": "2022-01-11T20:57:30.736024Z",
          "shell.execute_reply": "2022-01-11T20:57:30.742434Z"
        },
        "trusted": true,
        "colab": {
          "base_uri": "https://localhost:8080/"
        },
        "outputId": "44e3c0f4-768c-4c75-d410-68a4af067622"
      },
      "execution_count": 32,
      "outputs": [
        {
          "output_type": "execute_result",
          "data": {
            "text/plain": [
              "array([[-2.7982092 , -0.23692012,  1.6607695 ,  2.0081136 , -1.0349743 ],\n",
              "       [-3.0019846 , -0.344447  ,  1.8105384 ,  2.159017  , -1.0507915 ],\n",
              "       [-3.3570538 , -0.41788015,  4.5320907 ,  1.4609495 , -2.5076838 ],\n",
              "       ...,\n",
              "       [-0.212571  ,  2.831898  ,  2.4488802 , -1.0208452 , -3.8680997 ],\n",
              "       [-0.4126992 ,  2.797435  ,  2.6093464 , -0.94592136, -3.9141998 ],\n",
              "       [ 0.04566947,  3.112097  ,  2.2162495 , -1.2773408 , -3.931776  ]],\n",
              "      dtype=float32)"
            ]
          },
          "metadata": {},
          "execution_count": 32
        }
      ]
    },
    {
      "cell_type": "code",
      "source": [
        "label_pred_max=[np.argmax(i) for i in label_predicted['Sentiment']]"
      ],
      "metadata": {
        "id": "_3MkSRYmnomp",
        "execution": {
          "iopub.status.busy": "2022-01-11T20:57:36.434221Z",
          "iopub.execute_input": "2022-01-11T20:57:36.434581Z",
          "iopub.status.idle": "2022-01-11T20:57:36.628083Z",
          "shell.execute_reply.started": "2022-01-11T20:57:36.434542Z",
          "shell.execute_reply": "2022-01-11T20:57:36.627348Z"
        },
        "trusted": true
      },
      "execution_count": 33,
      "outputs": []
    },
    {
      "cell_type": "code",
      "source": [
        "label_pred_max[:10]"
      ],
      "metadata": {
        "id": "bLrn8zucnoaX",
        "execution": {
          "iopub.status.busy": "2022-01-11T20:57:53.927552Z",
          "iopub.execute_input": "2022-01-11T20:57:53.92814Z",
          "iopub.status.idle": "2022-01-11T20:57:53.933346Z",
          "shell.execute_reply.started": "2022-01-11T20:57:53.9281Z",
          "shell.execute_reply": "2022-01-11T20:57:53.932664Z"
        },
        "trusted": true,
        "colab": {
          "base_uri": "https://localhost:8080/"
        },
        "outputId": "32f2bf47-6012-470c-b6fa-0acdf3f3a83f"
      },
      "execution_count": 34,
      "outputs": [
        {
          "output_type": "execute_result",
          "data": {
            "text/plain": [
              "[3, 3, 2, 3, 3, 3, 3, 2, 3, 2]"
            ]
          },
          "metadata": {},
          "execution_count": 34
        }
      ]
    }
  ]
}