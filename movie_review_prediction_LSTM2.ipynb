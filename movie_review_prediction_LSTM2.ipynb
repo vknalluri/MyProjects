{
  "metadata": {
    "kernelspec": {
      "display_name": "Python 3",
      "language": "python",
      "name": "python3"
    },
    "language_info": {
      "name": "python",
      "version": "3.6.6",
      "mimetype": "text/x-python",
      "codemirror_mode": {
        "name": "ipython",
        "version": 3
      },
      "pygments_lexer": "ipython3",
      "nbconvert_exporter": "python",
      "file_extension": ".py"
    },
    "colab": {
      "name": "movie-review-prediction_LSTM2.ipynb",
      "provenance": [],
      "collapsed_sections": [],
      "include_colab_link": true
    }
  },
  "nbformat_minor": 0,
  "nbformat": 4,
  "cells": [
    {
      "cell_type": "markdown",
      "metadata": {
        "id": "view-in-github",
        "colab_type": "text"
      },
      "source": [
        "<a href=\"https://colab.research.google.com/github/vknalluri/MyProjects/blob/master/movie_review_prediction_LSTM2.ipynb\" target=\"_parent\"><img src=\"https://colab.research.google.com/assets/colab-badge.svg\" alt=\"Open In Colab\"/></a>"
      ]
    },
    {
      "cell_type": "markdown",
      "source": [
        "  # About Dataset\n",
        "The dataset is comprised of tab-separated files with phrases from the Rotten Tomatoes dataset. The train/test split has been preserved for the purposes of benchmarking, but the sentences have been shuffled from their original order. Each Sentence has been parsed into many phrases by the Stanford parser. Each phrase has a PhraseId. Each sentence has a SentenceId. Phrases that are repeated (such as short/common words) are only included once in the data.\n",
        "\n",
        "train.tsv contains the phrases and their associated sentiment labels. We have additionally provided a SentenceId so that you can track which phrases belong to a single sentence.\n",
        "\n",
        "test.tsv contains just phrases. You must assign a sentiment label to each phrase.\n",
        "\n",
        "The sentiment labels are:\n",
        "\n",
        "0 - negative\n",
        "\n",
        "1 - somewhat negative\n",
        "\n",
        "2 - neutral\n",
        "\n",
        "3 - somewhat positive\n",
        "\n",
        "4 - positive"
      ],
      "metadata": {
        "_uuid": "0fdb1f05ab368527aab2a6d69fe4e663de1beff0",
        "id": "iPl2CDjZOXnC"
      }
    },
    {
      "cell_type": "markdown",
      "source": [
        "## Loading important Libraries"
      ],
      "metadata": {
        "_uuid": "6f180c750a0d060cfc94e52c3771e6d67644913f",
        "id": "L5kL3qkwOXnI"
      }
    },
    {
      "cell_type": "code",
      "source": [
        "import numpy as np \n",
        "import pandas as pd \n",
        "import os\n",
        "\n",
        "import warnings\n",
        "warnings.filterwarnings(\"ignore\", category=UserWarning, module='bs4')\n",
        "\n",
        "\n",
        "\n",
        "#print(os.listdir(\"../input\"))"
      ],
      "metadata": {
        "_uuid": "8f2839f25d086af736a60e9eeb907d3b93b6e0e5",
        "_cell_guid": "b1076dfc-b9ad-4769-8c92-a6c4dae69d19",
        "trusted": true,
        "id": "v-agRy-XOXnJ"
      },
      "execution_count": 1,
      "outputs": []
    },
    {
      "cell_type": "code",
      "source": [
        "# The Natural Language Toolkit, or more commonly NLTK, is a suite of libraries and programs for symbolic and \n",
        "# statistical natural language processing for English written in the Python programming language.\n",
        "import nltk\n",
        "from nltk.tokenize import word_tokenize\n",
        "from nltk.stem import WordNetLemmatizer\n",
        "lemmatizer = WordNetLemmatizer()\n",
        "from bs4 import BeautifulSoup\n",
        "import re\n",
        "\n",
        "#TQDM is a progress bar library with good support for nested loops and Jupyter/IPython notebooks.\n",
        "from tqdm import tqdm\n"
      ],
      "metadata": {
        "trusted": true,
        "id": "snGXct5fOXnK"
      },
      "execution_count": 2,
      "outputs": []
    },
    {
      "cell_type": "markdown",
      "source": [
        "### What is Keras\n",
        "Keras is a deep learning framework that actually under the hood uses other deep learning frameworks in order to expose a beautiful, simple to use and fun to work with, high-level API. Keras can use either of these backends:\n",
        "\n",
        "\n",
        "    Tensorflow – Google’s deeplearning library\n",
        "    Theano – may not be further developed\n",
        "    CNTK – Microsoft’s deeplearning library\n",
        "    MXNet – deeplearning library from Apache.org (currently under development)\n",
        "\n",
        "Keras uses these frameworks to deliver powerful computation while exposing a beautiful and intuitive (that kinda looks like scikit-learn) API.\n",
        "\n",
        "Here’s what Keras brings to the table:\n",
        "\n",
        "    The integration with the various backends is seamless\n",
        "    Run training on either CPU/GPU\n",
        "    Comes in two flavours: sequential or functional. Just to ways of thinking about building models. The resulting models are perfectly equivalent. We’re going to use the sequential one.\n",
        "    Fast prototyping – With all these good abstractions in place, you can just focus more on the problem and hyperparameter tunning.\n",
        "    \n",
        "Let’s now start using Keras to develop various types of models for Natural Language Processing. Here’s what we’ll be building:\n",
        "\n",
        "    (Dense) Deep Neural Network – The NN classic model – uses the BOW model\n",
        "    Convolutional Network – build a network using 1D Conv Layers – uses word vectors\n",
        "    Recurrent Networks – LSTM Network – Long Short-Term Memory – uses word vectors\n",
        "    Transfer learning for NLP – Learn how to load spaCy’s vectors or GloVe vectors – uses word vectors"
      ],
      "metadata": {
        "id": "x79hGXahOXnL"
      }
    },
    {
      "cell_type": "code",
      "source": [
        "from tensorflow.keras.utils import to_categorical\n",
        "#import random from tensorflow as tf import tf.compat.v1.set_random_seed(4)\n",
        "from tensorflow.random import set_seed \n",
        "from sklearn.model_selection import train_test_split\n",
        "from keras.preprocessing import sequence\n",
        "from keras.preprocessing.text import Tokenizer\n",
        "from keras.layers import Dense,Dropout,Embedding,LSTM\n",
        "from keras.callbacks import EarlyStopping\n",
        "from keras.losses import categorical_crossentropy\n",
        "from tensorflow.keras.optimizers import Adam\n",
        "from keras.models import Sequential\n",
        "\n",
        "#set random seed for the session and also for tensorflow that runs in background for keras\n",
        "set_seed(123)\n",
        "#random.seed(123)\n"
      ],
      "metadata": {
        "trusted": true,
        "id": "RSO6Y274OXnM"
      },
      "execution_count": 3,
      "outputs": []
    },
    {
      "cell_type": "markdown",
      "source": [
        "## Load Dataset"
      ],
      "metadata": {
        "_uuid": "2f03ae0af5d73a29039f39632d1051ab6de4f3fb",
        "id": "3dN87jf1OXnN"
      }
    },
    {
      "cell_type": "code",
      "source": [
        "\n",
        "train= pd.read_csv(\"train.tsv\", sep=\"\\t\")\n",
        "test = pd.read_csv(\"test.tsv\", sep=\"\\t\")\n",
        "\n",
        "train.head()"
      ],
      "metadata": {
        "_cell_guid": "79c7e3d0-c299-4dcb-8224-4455121ee9b0",
        "_uuid": "d629ff2d2480ee46fbb7e2d37f6b5fab8052498a",
        "trusted": true,
        "colab": {
          "base_uri": "https://localhost:8080/",
          "height": 204
        },
        "id": "2MvP0b9ROXnN",
        "outputId": "2c216b37-4208-49ff-e5cf-71354364f725"
      },
      "execution_count": 4,
      "outputs": [
        {
          "output_type": "execute_result",
          "data": {
            "text/plain": [
              "   PhraseId  SentenceId                                             Phrase  \\\n",
              "0         1           1  A series of escapades demonstrating the adage ...   \n",
              "1         2           1  A series of escapades demonstrating the adage ...   \n",
              "2         3           1                                           A series   \n",
              "3         4           1                                                  A   \n",
              "4         5           1                                             series   \n",
              "\n",
              "   Sentiment  \n",
              "0          1  \n",
              "1          2  \n",
              "2          2  \n",
              "3          2  \n",
              "4          2  "
            ],
            "text/html": [
              "\n",
              "  <div id=\"df-783623d1-dc26-47bc-88f2-36b275918cb1\">\n",
              "    <div class=\"colab-df-container\">\n",
              "      <div>\n",
              "<style scoped>\n",
              "    .dataframe tbody tr th:only-of-type {\n",
              "        vertical-align: middle;\n",
              "    }\n",
              "\n",
              "    .dataframe tbody tr th {\n",
              "        vertical-align: top;\n",
              "    }\n",
              "\n",
              "    .dataframe thead th {\n",
              "        text-align: right;\n",
              "    }\n",
              "</style>\n",
              "<table border=\"1\" class=\"dataframe\">\n",
              "  <thead>\n",
              "    <tr style=\"text-align: right;\">\n",
              "      <th></th>\n",
              "      <th>PhraseId</th>\n",
              "      <th>SentenceId</th>\n",
              "      <th>Phrase</th>\n",
              "      <th>Sentiment</th>\n",
              "    </tr>\n",
              "  </thead>\n",
              "  <tbody>\n",
              "    <tr>\n",
              "      <th>0</th>\n",
              "      <td>1</td>\n",
              "      <td>1</td>\n",
              "      <td>A series of escapades demonstrating the adage ...</td>\n",
              "      <td>1</td>\n",
              "    </tr>\n",
              "    <tr>\n",
              "      <th>1</th>\n",
              "      <td>2</td>\n",
              "      <td>1</td>\n",
              "      <td>A series of escapades demonstrating the adage ...</td>\n",
              "      <td>2</td>\n",
              "    </tr>\n",
              "    <tr>\n",
              "      <th>2</th>\n",
              "      <td>3</td>\n",
              "      <td>1</td>\n",
              "      <td>A series</td>\n",
              "      <td>2</td>\n",
              "    </tr>\n",
              "    <tr>\n",
              "      <th>3</th>\n",
              "      <td>4</td>\n",
              "      <td>1</td>\n",
              "      <td>A</td>\n",
              "      <td>2</td>\n",
              "    </tr>\n",
              "    <tr>\n",
              "      <th>4</th>\n",
              "      <td>5</td>\n",
              "      <td>1</td>\n",
              "      <td>series</td>\n",
              "      <td>2</td>\n",
              "    </tr>\n",
              "  </tbody>\n",
              "</table>\n",
              "</div>\n",
              "      <button class=\"colab-df-convert\" onclick=\"convertToInteractive('df-783623d1-dc26-47bc-88f2-36b275918cb1')\"\n",
              "              title=\"Convert this dataframe to an interactive table.\"\n",
              "              style=\"display:none;\">\n",
              "        \n",
              "  <svg xmlns=\"http://www.w3.org/2000/svg\" height=\"24px\"viewBox=\"0 0 24 24\"\n",
              "       width=\"24px\">\n",
              "    <path d=\"M0 0h24v24H0V0z\" fill=\"none\"/>\n",
              "    <path d=\"M18.56 5.44l.94 2.06.94-2.06 2.06-.94-2.06-.94-.94-2.06-.94 2.06-2.06.94zm-11 1L8.5 8.5l.94-2.06 2.06-.94-2.06-.94L8.5 2.5l-.94 2.06-2.06.94zm10 10l.94 2.06.94-2.06 2.06-.94-2.06-.94-.94-2.06-.94 2.06-2.06.94z\"/><path d=\"M17.41 7.96l-1.37-1.37c-.4-.4-.92-.59-1.43-.59-.52 0-1.04.2-1.43.59L10.3 9.45l-7.72 7.72c-.78.78-.78 2.05 0 2.83L4 21.41c.39.39.9.59 1.41.59.51 0 1.02-.2 1.41-.59l7.78-7.78 2.81-2.81c.8-.78.8-2.07 0-2.86zM5.41 20L4 18.59l7.72-7.72 1.47 1.35L5.41 20z\"/>\n",
              "  </svg>\n",
              "      </button>\n",
              "      \n",
              "  <style>\n",
              "    .colab-df-container {\n",
              "      display:flex;\n",
              "      flex-wrap:wrap;\n",
              "      gap: 12px;\n",
              "    }\n",
              "\n",
              "    .colab-df-convert {\n",
              "      background-color: #E8F0FE;\n",
              "      border: none;\n",
              "      border-radius: 50%;\n",
              "      cursor: pointer;\n",
              "      display: none;\n",
              "      fill: #1967D2;\n",
              "      height: 32px;\n",
              "      padding: 0 0 0 0;\n",
              "      width: 32px;\n",
              "    }\n",
              "\n",
              "    .colab-df-convert:hover {\n",
              "      background-color: #E2EBFA;\n",
              "      box-shadow: 0px 1px 2px rgba(60, 64, 67, 0.3), 0px 1px 3px 1px rgba(60, 64, 67, 0.15);\n",
              "      fill: #174EA6;\n",
              "    }\n",
              "\n",
              "    [theme=dark] .colab-df-convert {\n",
              "      background-color: #3B4455;\n",
              "      fill: #D2E3FC;\n",
              "    }\n",
              "\n",
              "    [theme=dark] .colab-df-convert:hover {\n",
              "      background-color: #434B5C;\n",
              "      box-shadow: 0px 1px 3px 1px rgba(0, 0, 0, 0.15);\n",
              "      filter: drop-shadow(0px 1px 2px rgba(0, 0, 0, 0.3));\n",
              "      fill: #FFFFFF;\n",
              "    }\n",
              "  </style>\n",
              "\n",
              "      <script>\n",
              "        const buttonEl =\n",
              "          document.querySelector('#df-783623d1-dc26-47bc-88f2-36b275918cb1 button.colab-df-convert');\n",
              "        buttonEl.style.display =\n",
              "          google.colab.kernel.accessAllowed ? 'block' : 'none';\n",
              "\n",
              "        async function convertToInteractive(key) {\n",
              "          const element = document.querySelector('#df-783623d1-dc26-47bc-88f2-36b275918cb1');\n",
              "          const dataTable =\n",
              "            await google.colab.kernel.invokeFunction('convertToInteractive',\n",
              "                                                     [key], {});\n",
              "          if (!dataTable) return;\n",
              "\n",
              "          const docLinkHtml = 'Like what you see? Visit the ' +\n",
              "            '<a target=\"_blank\" href=https://colab.research.google.com/notebooks/data_table.ipynb>data table notebook</a>'\n",
              "            + ' to learn more about interactive tables.';\n",
              "          element.innerHTML = '';\n",
              "          dataTable['output_type'] = 'display_data';\n",
              "          await google.colab.output.renderOutput(dataTable, element);\n",
              "          const docLink = document.createElement('div');\n",
              "          docLink.innerHTML = docLinkHtml;\n",
              "          element.appendChild(docLink);\n",
              "        }\n",
              "      </script>\n",
              "    </div>\n",
              "  </div>\n",
              "  "
            ]
          },
          "metadata": {},
          "execution_count": 4
        }
      ]
    },
    {
      "cell_type": "code",
      "source": [
        "train.shape"
      ],
      "metadata": {
        "_uuid": "fb1464a9006164fe78aa10d694328dc24159394c",
        "trusted": true,
        "colab": {
          "base_uri": "https://localhost:8080/"
        },
        "id": "iGJEMhDpOXnO",
        "outputId": "bf25df64-350f-4ab1-a76c-d3bf47a63345"
      },
      "execution_count": 5,
      "outputs": [
        {
          "output_type": "execute_result",
          "data": {
            "text/plain": [
              "(156060, 4)"
            ]
          },
          "metadata": {},
          "execution_count": 5
        }
      ]
    },
    {
      "cell_type": "code",
      "source": [
        "test.head()"
      ],
      "metadata": {
        "_uuid": "732aa6143c98b3c2aaf3a95fe8d3c73920485f53",
        "trusted": true,
        "colab": {
          "base_uri": "https://localhost:8080/",
          "height": 204
        },
        "id": "w1wG75icOXnO",
        "outputId": "d94c98ee-89bb-455b-d7d5-4d5b05576f52"
      },
      "execution_count": 6,
      "outputs": [
        {
          "output_type": "execute_result",
          "data": {
            "text/plain": [
              "   PhraseId  SentenceId                                             Phrase\n",
              "0    156061        8545  An intermittently pleasing but mostly routine ...\n",
              "1    156062        8545  An intermittently pleasing but mostly routine ...\n",
              "2    156063        8545                                                 An\n",
              "3    156064        8545  intermittently pleasing but mostly routine effort\n",
              "4    156065        8545         intermittently pleasing but mostly routine"
            ],
            "text/html": [
              "\n",
              "  <div id=\"df-adbd3f2d-81e2-4434-bf83-badf3136645d\">\n",
              "    <div class=\"colab-df-container\">\n",
              "      <div>\n",
              "<style scoped>\n",
              "    .dataframe tbody tr th:only-of-type {\n",
              "        vertical-align: middle;\n",
              "    }\n",
              "\n",
              "    .dataframe tbody tr th {\n",
              "        vertical-align: top;\n",
              "    }\n",
              "\n",
              "    .dataframe thead th {\n",
              "        text-align: right;\n",
              "    }\n",
              "</style>\n",
              "<table border=\"1\" class=\"dataframe\">\n",
              "  <thead>\n",
              "    <tr style=\"text-align: right;\">\n",
              "      <th></th>\n",
              "      <th>PhraseId</th>\n",
              "      <th>SentenceId</th>\n",
              "      <th>Phrase</th>\n",
              "    </tr>\n",
              "  </thead>\n",
              "  <tbody>\n",
              "    <tr>\n",
              "      <th>0</th>\n",
              "      <td>156061</td>\n",
              "      <td>8545</td>\n",
              "      <td>An intermittently pleasing but mostly routine ...</td>\n",
              "    </tr>\n",
              "    <tr>\n",
              "      <th>1</th>\n",
              "      <td>156062</td>\n",
              "      <td>8545</td>\n",
              "      <td>An intermittently pleasing but mostly routine ...</td>\n",
              "    </tr>\n",
              "    <tr>\n",
              "      <th>2</th>\n",
              "      <td>156063</td>\n",
              "      <td>8545</td>\n",
              "      <td>An</td>\n",
              "    </tr>\n",
              "    <tr>\n",
              "      <th>3</th>\n",
              "      <td>156064</td>\n",
              "      <td>8545</td>\n",
              "      <td>intermittently pleasing but mostly routine effort</td>\n",
              "    </tr>\n",
              "    <tr>\n",
              "      <th>4</th>\n",
              "      <td>156065</td>\n",
              "      <td>8545</td>\n",
              "      <td>intermittently pleasing but mostly routine</td>\n",
              "    </tr>\n",
              "  </tbody>\n",
              "</table>\n",
              "</div>\n",
              "      <button class=\"colab-df-convert\" onclick=\"convertToInteractive('df-adbd3f2d-81e2-4434-bf83-badf3136645d')\"\n",
              "              title=\"Convert this dataframe to an interactive table.\"\n",
              "              style=\"display:none;\">\n",
              "        \n",
              "  <svg xmlns=\"http://www.w3.org/2000/svg\" height=\"24px\"viewBox=\"0 0 24 24\"\n",
              "       width=\"24px\">\n",
              "    <path d=\"M0 0h24v24H0V0z\" fill=\"none\"/>\n",
              "    <path d=\"M18.56 5.44l.94 2.06.94-2.06 2.06-.94-2.06-.94-.94-2.06-.94 2.06-2.06.94zm-11 1L8.5 8.5l.94-2.06 2.06-.94-2.06-.94L8.5 2.5l-.94 2.06-2.06.94zm10 10l.94 2.06.94-2.06 2.06-.94-2.06-.94-.94-2.06-.94 2.06-2.06.94z\"/><path d=\"M17.41 7.96l-1.37-1.37c-.4-.4-.92-.59-1.43-.59-.52 0-1.04.2-1.43.59L10.3 9.45l-7.72 7.72c-.78.78-.78 2.05 0 2.83L4 21.41c.39.39.9.59 1.41.59.51 0 1.02-.2 1.41-.59l7.78-7.78 2.81-2.81c.8-.78.8-2.07 0-2.86zM5.41 20L4 18.59l7.72-7.72 1.47 1.35L5.41 20z\"/>\n",
              "  </svg>\n",
              "      </button>\n",
              "      \n",
              "  <style>\n",
              "    .colab-df-container {\n",
              "      display:flex;\n",
              "      flex-wrap:wrap;\n",
              "      gap: 12px;\n",
              "    }\n",
              "\n",
              "    .colab-df-convert {\n",
              "      background-color: #E8F0FE;\n",
              "      border: none;\n",
              "      border-radius: 50%;\n",
              "      cursor: pointer;\n",
              "      display: none;\n",
              "      fill: #1967D2;\n",
              "      height: 32px;\n",
              "      padding: 0 0 0 0;\n",
              "      width: 32px;\n",
              "    }\n",
              "\n",
              "    .colab-df-convert:hover {\n",
              "      background-color: #E2EBFA;\n",
              "      box-shadow: 0px 1px 2px rgba(60, 64, 67, 0.3), 0px 1px 3px 1px rgba(60, 64, 67, 0.15);\n",
              "      fill: #174EA6;\n",
              "    }\n",
              "\n",
              "    [theme=dark] .colab-df-convert {\n",
              "      background-color: #3B4455;\n",
              "      fill: #D2E3FC;\n",
              "    }\n",
              "\n",
              "    [theme=dark] .colab-df-convert:hover {\n",
              "      background-color: #434B5C;\n",
              "      box-shadow: 0px 1px 3px 1px rgba(0, 0, 0, 0.15);\n",
              "      filter: drop-shadow(0px 1px 2px rgba(0, 0, 0, 0.3));\n",
              "      fill: #FFFFFF;\n",
              "    }\n",
              "  </style>\n",
              "\n",
              "      <script>\n",
              "        const buttonEl =\n",
              "          document.querySelector('#df-adbd3f2d-81e2-4434-bf83-badf3136645d button.colab-df-convert');\n",
              "        buttonEl.style.display =\n",
              "          google.colab.kernel.accessAllowed ? 'block' : 'none';\n",
              "\n",
              "        async function convertToInteractive(key) {\n",
              "          const element = document.querySelector('#df-adbd3f2d-81e2-4434-bf83-badf3136645d');\n",
              "          const dataTable =\n",
              "            await google.colab.kernel.invokeFunction('convertToInteractive',\n",
              "                                                     [key], {});\n",
              "          if (!dataTable) return;\n",
              "\n",
              "          const docLinkHtml = 'Like what you see? Visit the ' +\n",
              "            '<a target=\"_blank\" href=https://colab.research.google.com/notebooks/data_table.ipynb>data table notebook</a>'\n",
              "            + ' to learn more about interactive tables.';\n",
              "          element.innerHTML = '';\n",
              "          dataTable['output_type'] = 'display_data';\n",
              "          await google.colab.output.renderOutput(dataTable, element);\n",
              "          const docLink = document.createElement('div');\n",
              "          docLink.innerHTML = docLinkHtml;\n",
              "          element.appendChild(docLink);\n",
              "        }\n",
              "      </script>\n",
              "    </div>\n",
              "  </div>\n",
              "  "
            ]
          },
          "metadata": {},
          "execution_count": 6
        }
      ]
    },
    {
      "cell_type": "code",
      "source": [
        "test.shape"
      ],
      "metadata": {
        "trusted": true,
        "colab": {
          "base_uri": "https://localhost:8080/"
        },
        "id": "YWfqQaylOXnO",
        "outputId": "21579e7a-706d-4309-9bc4-7f848010f452"
      },
      "execution_count": 7,
      "outputs": [
        {
          "output_type": "execute_result",
          "data": {
            "text/plain": [
              "(66292, 3)"
            ]
          },
          "metadata": {},
          "execution_count": 7
        }
      ]
    },
    {
      "cell_type": "markdown",
      "source": [
        "# Function for cleaning the reviews, tokenize and lemmatize them.\n",
        "\n",
        "This function will take each phrase iteratively and it will \n",
        "    \n",
        "        remove html content\n",
        "        remove non-alphabetic characters\n",
        "        tokenize the sentences\n",
        "        lemmatize each word to its lemma\n",
        "and then return the result in the list named reviews"
      ],
      "metadata": {
        "_uuid": "47d8b13e01fa17aae32be74d598939403b2cfebb",
        "id": "vECvacOOOXnP"
      }
    },
    {
      "cell_type": "code",
      "source": [
        "\n",
        "def clean_sentences(df):\n",
        "    reviews = []\n",
        "\n",
        "    for sent in tqdm(df['Phrase']):\n",
        "        \n",
        "        #remove html content\n",
        "        review_text = BeautifulSoup(sent).get_text()\n",
        "        \n",
        "        #remove non-alphabetic characters\n",
        "        review_text = re.sub(\"[^a-zA-Z]\",\" \", review_text)\n",
        "    \n",
        "        #tokenize the sentences\n",
        "        words = word_tokenize(review_text.lower())\n",
        "    \n",
        "        #lemmatize each word to its lemma\n",
        "        lemma_words = [lemmatizer.lemmatize(i) for i in words]\n",
        "    \n",
        "        reviews.append(lemma_words)\n",
        "\n",
        "    return(reviews)\n",
        "\n"
      ],
      "metadata": {
        "_uuid": "5e1fdc5dbea7aea92a2872c746aea9b25788aad5",
        "trusted": true,
        "id": "Ymc1SU2bOXnP"
      },
      "execution_count": 8,
      "outputs": []
    },
    {
      "cell_type": "code",
      "source": [
        "#cleaned reviews for both train and test set retrieved\n",
        "#from nltk import nltk.download('punkt')\n",
        "\n",
        "import nltk\n",
        "nltk.download('punkt')\n",
        "nltk.download('wordnet')\n",
        "\n",
        "train_sentences = clean_sentences(train)\n",
        "test_sentences = clean_sentences(test)\n",
        "print(len(train_sentences))\n",
        "print(len(test_sentences))"
      ],
      "metadata": {
        "trusted": true,
        "colab": {
          "base_uri": "https://localhost:8080/"
        },
        "id": "hqj6aYBxOXnQ",
        "outputId": "d3f87799-4fb3-4f4d-bc72-33bf06baf496"
      },
      "execution_count": 9,
      "outputs": [
        {
          "output_type": "stream",
          "name": "stdout",
          "text": [
            "[nltk_data] Downloading package punkt to /root/nltk_data...\n",
            "[nltk_data]   Package punkt is already up-to-date!\n",
            "[nltk_data] Downloading package wordnet to /root/nltk_data...\n",
            "[nltk_data]   Package wordnet is already up-to-date!\n"
          ]
        },
        {
          "output_type": "stream",
          "name": "stderr",
          "text": [
            "100%|██████████| 156060/156060 [01:26<00:00, 1800.39it/s]\n",
            "100%|██████████| 66292/66292 [00:35<00:00, 1849.24it/s]"
          ]
        },
        {
          "output_type": "stream",
          "name": "stdout",
          "text": [
            "156060\n",
            "66292\n"
          ]
        },
        {
          "output_type": "stream",
          "name": "stderr",
          "text": [
            "\n"
          ]
        }
      ]
    },
    {
      "cell_type": "markdown",
      "source": [
        "## Collect the dependent values and convert to one-hot encoded output using to_categorical"
      ],
      "metadata": {
        "_uuid": "cdedece358c942dbca3baf8e38bb8a850e88b2ba",
        "id": "hkz-DKBOOXnQ"
      }
    },
    {
      "cell_type": "code",
      "source": [
        "target=train.Sentiment.values\n",
        "y_target=to_categorical(target)\n",
        "num_classes=y_target.shape[1]"
      ],
      "metadata": {
        "_uuid": "31e462eadcf747d4f37a5e6c2bc4965d39ce10bb",
        "trusted": true,
        "id": "cCB4WJ2rOXnR"
      },
      "execution_count": 10,
      "outputs": []
    },
    {
      "cell_type": "markdown",
      "source": [
        "## split into train and validation sets."
      ],
      "metadata": {
        "_uuid": "16fbf94281d219307165e3195eb799360cc40a53",
        "id": "15STdsenOXnR"
      }
    },
    {
      "cell_type": "code",
      "source": [
        "X_train,X_val,y_train,y_val=train_test_split(train_sentences,y_target,test_size=0.1,stratify=y_target)"
      ],
      "metadata": {
        "_uuid": "33db4ea234f1f76a98f2c0dbe7d9b9938a1fe2d3",
        "trusted": true,
        "id": "KtjpWk0rOXnS"
      },
      "execution_count": 11,
      "outputs": []
    },
    {
      "cell_type": "markdown",
      "source": [
        "## Geting the no of unique words and max length of a review available in the list of cleaned reviews."
      ],
      "metadata": {
        "_uuid": "ef359e011decf1ed1f285470d9b3fa1411d55e35",
        "id": "Pwmah66xOXnS"
      }
    },
    {
      "cell_type": "code",
      "source": [
        "#It is needed for initializing tokenizer of keras and subsequent padding\n",
        "\n",
        "unique_words = set()\n",
        "len_max = 0\n",
        "\n",
        "for sent in tqdm(X_train):\n",
        "    \n",
        "    unique_words.update(sent)\n",
        "    \n",
        "    if(len_max<len(sent)):\n",
        "        len_max = len(sent)\n",
        "        \n",
        "#length of the list of unique_words gives the no of unique words\n",
        "print(len(list(unique_words)))\n",
        "print(len_max)\n"
      ],
      "metadata": {
        "_uuid": "c634680111a84642b151e862040b0475520d5010",
        "trusted": true,
        "colab": {
          "base_uri": "https://localhost:8080/"
        },
        "id": "hNrSIUfjOXnT",
        "outputId": "1596324e-ceac-4640-8fbb-e771061ba172"
      },
      "execution_count": 12,
      "outputs": [
        {
          "output_type": "stream",
          "name": "stderr",
          "text": [
            "100%|██████████| 140454/140454 [00:00<00:00, 358244.41it/s]"
          ]
        },
        {
          "output_type": "stream",
          "name": "stdout",
          "text": [
            "13741\n",
            "48\n"
          ]
        },
        {
          "output_type": "stream",
          "name": "stderr",
          "text": [
            "\n"
          ]
        }
      ]
    },
    {
      "cell_type": "markdown",
      "source": [
        "## Actual tokenizer of keras and convert to sequences"
      ],
      "metadata": {
        "_uuid": "7dfc49aeb99251a822a39fed9a8fae0171deb662",
        "id": "14TN4egoOXnT"
      }
    },
    {
      "cell_type": "code",
      "source": [
        "tokenizer = Tokenizer(num_words=len(list(unique_words)))\n",
        "tokenizer.fit_on_texts(list(X_train))\n",
        "\n",
        "#texts_to_sequences(texts)\n",
        "\n",
        "    # Arguments- texts: list of texts to turn to sequences.\n",
        "    #Return: list of sequences (one per text input).\n",
        "X_train = tokenizer.texts_to_sequences(X_train)\n",
        "X_val = tokenizer.texts_to_sequences(X_val)\n",
        "X_test = tokenizer.texts_to_sequences(test_sentences)\n",
        "\n",
        "#padding done to equalize the lengths of all input reviews. LSTM networks needs all inputs to be same length.\n",
        "#Therefore reviews lesser than max length will be made equal using extra zeros at end. This is padding.\n",
        "\n",
        "X_train = sequence.pad_sequences(X_train, maxlen=len_max)\n",
        "X_val = sequence.pad_sequences(X_val, maxlen=len_max)\n",
        "X_test = sequence.pad_sequences(X_test, maxlen=len_max)\n",
        "\n",
        "print(X_train.shape,X_val.shape,X_test.shape)"
      ],
      "metadata": {
        "_uuid": "6f106b6e59545f8d0d4db272acf32b2337e1ad7b",
        "trusted": true,
        "colab": {
          "base_uri": "https://localhost:8080/"
        },
        "id": "yKmqCQJCOXnU",
        "outputId": "6d3c182d-d54a-4966-9415-40468824f181"
      },
      "execution_count": 13,
      "outputs": [
        {
          "output_type": "stream",
          "name": "stdout",
          "text": [
            "(140454, 48) (15606, 48) (66292, 48)\n"
          ]
        }
      ]
    },
    {
      "cell_type": "markdown",
      "source": [
        "## Early stopping to prevent overfitting\n",
        "Early stopping is a method that allows you to specify an arbitrary large number of training epochs and stop training once the model performance stops improving on a hold out validation dataset. In this tutorial, you will discover the Keras API for adding early stopping to overfit deep learning neural network models."
      ],
      "metadata": {
        "_uuid": "f99132a978d0cfa245defb35edfbfc5e8f6151c6",
        "id": "cY89SutZOXnU"
      }
    },
    {
      "cell_type": "code",
      "source": [
        "early_stopping = EarlyStopping(min_delta = 0.001, mode = 'max', monitor='val_acc', patience = 2)\n",
        "callback = [early_stopping]\n",
        "\n",
        "optimizer = Adam(learning_rate=5e-05,epsilon=1e-08,decay=0.01,clipnorm=1.0)"
      ],
      "metadata": {
        "_uuid": "27f0a1c26bee93cd660a69df8b79c61094f61abf",
        "trusted": true,
        "id": "6GV4FPwxOXnV"
      },
      "execution_count": 14,
      "outputs": []
    },
    {
      "cell_type": "code",
      "source": [
        "#Model using Keras LSTM\n",
        "\n",
        "#Multilayer Perceptron (MLP) for multi-class softmax classification:\n",
        "#Let’s build what’s probably the most popular type of model in NLP at the moment: Long Short Term Memory network. \n",
        "#This architecture is specially designed to work on sequence data.\n",
        "#It fits perfectly for many NLP tasks like tagging and text classification.\n",
        "#It treats the text as a sequence rather than a bag of words or as ngrams.\n",
        "\n",
        "#Here’s a possible model definition:\n",
        "\n",
        "model=Sequential()\n",
        "model.add(Embedding(len(list(unique_words)),300,input_length=len_max))\n",
        "model.add(LSTM(128,dropout=0.1, recurrent_dropout=0.1,return_sequences=True))\n",
        "model.add(LSTM(64,dropout=0.1, recurrent_dropout=0.1,return_sequences=False))\n",
        "model.add(Dense(100,activation='relu'))\n",
        "model.add(Dropout(0.1))\n",
        "model.add(Dense(num_classes,activation='softmax'))\n",
        "model.compile(loss='categorical_crossentropy',optimizer=optimizer,metrics=['accuracy'])\n",
        "model.summary()"
      ],
      "metadata": {
        "trusted": true,
        "colab": {
          "base_uri": "https://localhost:8080/"
        },
        "id": "D0cS9S5HOXnV",
        "outputId": "a4a40718-70d8-426a-cdd0-dd3a1115a2ce"
      },
      "execution_count": 15,
      "outputs": [
        {
          "output_type": "stream",
          "name": "stdout",
          "text": [
            "Model: \"sequential\"\n",
            "_________________________________________________________________\n",
            " Layer (type)                Output Shape              Param #   \n",
            "=================================================================\n",
            " embedding (Embedding)       (None, 48, 300)           4122300   \n",
            "                                                                 \n",
            " lstm (LSTM)                 (None, 48, 128)           219648    \n",
            "                                                                 \n",
            " lstm_1 (LSTM)               (None, 64)                49408     \n",
            "                                                                 \n",
            " dense (Dense)               (None, 100)               6500      \n",
            "                                                                 \n",
            " dropout (Dropout)           (None, 100)               0         \n",
            "                                                                 \n",
            " dense_1 (Dense)             (None, 5)                 505       \n",
            "                                                                 \n",
            "=================================================================\n",
            "Total params: 4,398,361\n",
            "Trainable params: 4,398,361\n",
            "Non-trainable params: 0\n",
            "_________________________________________________________________\n"
          ]
        }
      ]
    },
    {
      "cell_type": "markdown",
      "source": [
        "## fit the model"
      ],
      "metadata": {
        "_uuid": "d323fed6b9c2ffaeb8b3f71cacb3ff458efe0bf9",
        "id": "P9NbQ9qrOXnW"
      }
    },
    {
      "cell_type": "code",
      "source": [
        "#This is done for learning purpose only. One can play around with different hyper parameters combinations\n",
        "#and try increase the accuracy even more. For example, a different learning rate, an extra dense layer \n",
        "# before output layer, etc. Cross validation could be used to evaluate the model and grid search \n",
        "# further to find unique combination of parameters that give maximum accuracy. This model has a validation\n",
        "#accuracy of around 50.5%\n",
        "history=model.fit(X_train, y_train, validation_data=(X_val, y_val),epochs=6, batch_size=64, verbose=1, callbacks=callback)"
      ],
      "metadata": {
        "_uuid": "2b1bf946e278f0a9955356351907d512f5018582",
        "trusted": true,
        "colab": {
          "base_uri": "https://localhost:8080/"
        },
        "id": "JLkFqhtoOXnW",
        "outputId": "640fb8d8-088b-4856-84f6-6f8db647eb55"
      },
      "execution_count": 16,
      "outputs": [
        {
          "output_type": "stream",
          "name": "stdout",
          "text": [
            "Epoch 1/6\n",
            "2195/2195 [==============================] - ETA: 0s - loss: 1.2641 - accuracy: 0.5082WARNING:tensorflow:Early stopping conditioned on metric `val_acc` which is not available. Available metrics are: loss,accuracy,val_loss,val_accuracy\n",
            "2195/2195 [==============================] - 936s 423ms/step - loss: 1.2641 - accuracy: 0.5082 - val_loss: 1.2350 - val_accuracy: 0.5104\n",
            "Epoch 2/6\n",
            "2195/2195 [==============================] - ETA: 0s - loss: 1.2399 - accuracy: 0.5117WARNING:tensorflow:Early stopping conditioned on metric `val_acc` which is not available. Available metrics are: loss,accuracy,val_loss,val_accuracy\n",
            "2195/2195 [==============================] - 916s 417ms/step - loss: 1.2399 - accuracy: 0.5117 - val_loss: 1.2312 - val_accuracy: 0.5119\n",
            "Epoch 3/6\n",
            "2195/2195 [==============================] - ETA: 0s - loss: 1.2365 - accuracy: 0.5128WARNING:tensorflow:Early stopping conditioned on metric `val_acc` which is not available. Available metrics are: loss,accuracy,val_loss,val_accuracy\n",
            "2195/2195 [==============================] - 921s 420ms/step - loss: 1.2365 - accuracy: 0.5128 - val_loss: 1.2293 - val_accuracy: 0.5132\n",
            "Epoch 4/6\n",
            "2195/2195 [==============================] - ETA: 0s - loss: 1.2353 - accuracy: 0.5129WARNING:tensorflow:Early stopping conditioned on metric `val_acc` which is not available. Available metrics are: loss,accuracy,val_loss,val_accuracy\n",
            "2195/2195 [==============================] - 967s 440ms/step - loss: 1.2353 - accuracy: 0.5129 - val_loss: 1.2282 - val_accuracy: 0.5135\n",
            "Epoch 5/6\n",
            "2195/2195 [==============================] - ETA: 0s - loss: 1.2345 - accuracy: 0.5131WARNING:tensorflow:Early stopping conditioned on metric `val_acc` which is not available. Available metrics are: loss,accuracy,val_loss,val_accuracy\n",
            "2195/2195 [==============================] - 976s 445ms/step - loss: 1.2345 - accuracy: 0.5131 - val_loss: 1.2275 - val_accuracy: 0.5127\n",
            "Epoch 6/6\n",
            "2195/2195 [==============================] - ETA: 0s - loss: 1.2330 - accuracy: 0.5134WARNING:tensorflow:Early stopping conditioned on metric `val_acc` which is not available. Available metrics are: loss,accuracy,val_loss,val_accuracy\n",
            "2195/2195 [==============================] - 919s 418ms/step - loss: 1.2330 - accuracy: 0.5134 - val_loss: 1.2269 - val_accuracy: 0.5125\n"
          ]
        }
      ]
    },
    {
      "cell_type": "code",
      "source": [
        "import matplotlib.pyplot as plt\n",
        "\n",
        "# Create count of the number of epochs\n",
        "epoch_count = range(1, len(history.history['loss']) + 1)\n",
        "\n",
        "# Visualize learning curve. Here learning curve is not ideal. It should be much smoother as it decreases.\n",
        "#As mentioned before, altering different hyper parameters especially learning rate can have a positive impact\n",
        "#on accuracy and learning curve.\n",
        "plt.plot(epoch_count, history.history['loss'], 'r--')\n",
        "plt.plot(epoch_count, history.history['val_loss'], 'b-')\n",
        "plt.legend(['Training Loss', 'Validation Loss'])\n",
        "plt.xlabel('Epoch')\n",
        "plt.ylabel('Loss')\n",
        "plt.show()"
      ],
      "metadata": {
        "_uuid": "1524533e318bcdea0e4d3abebbf5b02c6eb49b2b",
        "trusted": true,
        "colab": {
          "base_uri": "https://localhost:8080/",
          "height": 279
        },
        "id": "9cbHWZUkOXnW",
        "outputId": "8ff84888-c095-4dd9-e39c-a6f0457726a2"
      },
      "execution_count": 17,
      "outputs": [
        {
          "output_type": "display_data",
          "data": {
            "text/plain": [
              "<Figure size 432x288 with 1 Axes>"
            ],
            "image/png": "[encoded data removed]"
          },
          "metadata": {
            "needs_background": "light"
          }
        }
      ]
    },
    {
      "cell_type": "markdown",
      "source": [
        "## Submission"
      ],
      "metadata": {
        "_uuid": "d9356081721990b2af9de625c7fcad7c241ee61a",
        "id": "jyoAjLk4OXnX"
      }
    },
    {
      "cell_type": "code",
      "source": [
        "#make the predictions with trained model and submit the predictions.\n",
        "y_pred=model.predict(X_test)\n",
        "\n",
        "sub_file = pd.read_csv('sampleSubmission.csv',sep=',')\n",
        "sub_file.Sentiment=y_pred\n",
        "sub_file.to_csv('Submission.csv',index=False)"
      ],
      "metadata": {
        "_uuid": "03b12920b45234667f67adeedb5596e93a4d3ddd",
        "trusted": true,
        "id": "fHR6lbU9OXnX"
      },
      "execution_count": 19,
      "outputs": []
    },
    {
      "cell_type": "code",
      "source": [
        ""
      ],
      "metadata": {
        "trusted": true,
        "id": "rMvZZ5obOXnX"
      },
      "execution_count": null,
      "outputs": []
    }
  ]
}